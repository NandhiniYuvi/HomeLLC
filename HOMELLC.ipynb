{
 "cells": [
  {
   "cell_type": "code",
   "execution_count": 1,
   "id": "67e30057",
   "metadata": {},
   "outputs": [
    {
     "name": "stderr",
     "output_type": "stream",
     "text": [
      "C:\\Users\\Nandhini\\Anaconda3\\lib\\site-packages\\scipy\\__init__.py:146: UserWarning: A NumPy version >=1.16.5 and <1.23.0 is required for this version of SciPy (detected version 1.23.4\n",
      "  warnings.warn(f\"A NumPy version >={np_minversion} and <{np_maxversion}\"\n"
     ]
    }
   ],
   "source": [
    "#importing the necessary packages\n",
    "import pandas as pd\n",
    "import string\n",
    "import plotly.express as px\n",
    "import numpy as np\n",
    "import seaborn as sns\n",
    "import warnings\n",
    "import matplotlib.pyplot as plt\n",
    "import matplotlib.style\n"
   ]
  },
  {
   "cell_type": "code",
   "execution_count": 2,
   "id": "34b1ffc2",
   "metadata": {},
   "outputs": [
    {
     "data": {
      "text/html": [
       "<div>\n",
       "<style scoped>\n",
       "    .dataframe tbody tr th:only-of-type {\n",
       "        vertical-align: middle;\n",
       "    }\n",
       "\n",
       "    .dataframe tbody tr th {\n",
       "        vertical-align: top;\n",
       "    }\n",
       "\n",
       "    .dataframe thead th {\n",
       "        text-align: right;\n",
       "    }\n",
       "</style>\n",
       "<table border=\"1\" class=\"dataframe\">\n",
       "  <thead>\n",
       "    <tr style=\"text-align: right;\">\n",
       "      <th></th>\n",
       "      <th>CSUSHPISA</th>\n",
       "    </tr>\n",
       "    <tr>\n",
       "      <th>DATE</th>\n",
       "      <th></th>\n",
       "    </tr>\n",
       "  </thead>\n",
       "  <tbody>\n",
       "    <tr>\n",
       "      <th>1987-01-01</th>\n",
       "      <td>63.965</td>\n",
       "    </tr>\n",
       "    <tr>\n",
       "      <th>1987-02-01</th>\n",
       "      <td>64.424</td>\n",
       "    </tr>\n",
       "    <tr>\n",
       "      <th>1987-03-01</th>\n",
       "      <td>64.735</td>\n",
       "    </tr>\n",
       "    <tr>\n",
       "      <th>1987-04-01</th>\n",
       "      <td>65.131</td>\n",
       "    </tr>\n",
       "    <tr>\n",
       "      <th>1987-05-01</th>\n",
       "      <td>65.563</td>\n",
       "    </tr>\n",
       "  </tbody>\n",
       "</table>\n",
       "</div>"
      ],
      "text/plain": [
       "            CSUSHPISA\n",
       "DATE                 \n",
       "1987-01-01     63.965\n",
       "1987-02-01     64.424\n",
       "1987-03-01     64.735\n",
       "1987-04-01     65.131\n",
       "1987-05-01     65.563"
      ]
     },
     "execution_count": 2,
     "metadata": {},
     "output_type": "execute_result"
    }
   ],
   "source": [
    "# import os\n",
    "# os.chdir('C:\\\\GL Class\\\\Solution Preparation\\EDA')\n",
    "df= pd.read_csv('C:/Users/Nandhini/Downloads/CSUSHPISA.csv',parse_dates = True, index_col = 'DATE')\n",
    "df.head()"
   ]
  },
  {
   "cell_type": "code",
   "execution_count": 3,
   "id": "550ec727",
   "metadata": {},
   "outputs": [
    {
     "data": {
      "text/plain": [
       "(438, 1)"
      ]
     },
     "execution_count": 3,
     "metadata": {},
     "output_type": "execute_result"
    }
   ],
   "source": [
    "df.shape"
   ]
  },
  {
   "cell_type": "code",
   "execution_count": 4,
   "id": "ed688ccc",
   "metadata": {},
   "outputs": [
    {
     "data": {
      "text/plain": [
       "<bound method DataFrame.info of             CSUSHPISA\n",
       "DATE                 \n",
       "1987-01-01     63.965\n",
       "1987-02-01     64.424\n",
       "1987-03-01     64.735\n",
       "1987-04-01     65.131\n",
       "1987-05-01     65.563\n",
       "...               ...\n",
       "2023-02-01    296.958\n",
       "2023-03-01    298.210\n",
       "2023-04-01    300.214\n",
       "2023-05-01    302.657\n",
       "2023-06-01    304.635\n",
       "\n",
       "[438 rows x 1 columns]>"
      ]
     },
     "execution_count": 4,
     "metadata": {},
     "output_type": "execute_result"
    }
   ],
   "source": [
    "df.info"
   ]
  },
  {
   "cell_type": "code",
   "execution_count": 5,
   "id": "e383906b",
   "metadata": {},
   "outputs": [
    {
     "data": {
      "text/html": [
       "<div>\n",
       "<style scoped>\n",
       "    .dataframe tbody tr th:only-of-type {\n",
       "        vertical-align: middle;\n",
       "    }\n",
       "\n",
       "    .dataframe tbody tr th {\n",
       "        vertical-align: top;\n",
       "    }\n",
       "\n",
       "    .dataframe thead th {\n",
       "        text-align: right;\n",
       "    }\n",
       "</style>\n",
       "<table border=\"1\" class=\"dataframe\">\n",
       "  <thead>\n",
       "    <tr style=\"text-align: right;\">\n",
       "      <th></th>\n",
       "      <th>CSUSHPISA</th>\n",
       "    </tr>\n",
       "  </thead>\n",
       "  <tbody>\n",
       "    <tr>\n",
       "      <th>count</th>\n",
       "      <td>438.000000</td>\n",
       "    </tr>\n",
       "    <tr>\n",
       "      <th>mean</th>\n",
       "      <td>140.763870</td>\n",
       "    </tr>\n",
       "    <tr>\n",
       "      <th>std</th>\n",
       "      <td>59.803531</td>\n",
       "    </tr>\n",
       "    <tr>\n",
       "      <th>min</th>\n",
       "      <td>63.965000</td>\n",
       "    </tr>\n",
       "    <tr>\n",
       "      <th>25%</th>\n",
       "      <td>82.013000</td>\n",
       "    </tr>\n",
       "    <tr>\n",
       "      <th>50%</th>\n",
       "      <td>140.265000</td>\n",
       "    </tr>\n",
       "    <tr>\n",
       "      <th>75%</th>\n",
       "      <td>178.094500</td>\n",
       "    </tr>\n",
       "    <tr>\n",
       "      <th>max</th>\n",
       "      <td>304.817000</td>\n",
       "    </tr>\n",
       "  </tbody>\n",
       "</table>\n",
       "</div>"
      ],
      "text/plain": [
       "        CSUSHPISA\n",
       "count  438.000000\n",
       "mean   140.763870\n",
       "std     59.803531\n",
       "min     63.965000\n",
       "25%     82.013000\n",
       "50%    140.265000\n",
       "75%    178.094500\n",
       "max    304.817000"
      ]
     },
     "execution_count": 5,
     "metadata": {},
     "output_type": "execute_result"
    }
   ],
   "source": [
    "df.describe()"
   ]
  },
  {
   "cell_type": "code",
   "execution_count": 6,
   "id": "4efd0ffd",
   "metadata": {},
   "outputs": [
    {
     "data": {
      "text/plain": [
       "0"
      ]
     },
     "execution_count": 6,
     "metadata": {},
     "output_type": "execute_result"
    }
   ],
   "source": [
    "df.duplicated().sum()"
   ]
  },
  {
   "cell_type": "code",
   "execution_count": 7,
   "id": "c49c6f30",
   "metadata": {},
   "outputs": [
    {
     "data": {
      "text/plain": [
       "CSUSHPISA    0\n",
       "dtype: int64"
      ]
     },
     "execution_count": 7,
     "metadata": {},
     "output_type": "execute_result"
    }
   ],
   "source": [
    "df.isnull().sum()"
   ]
  },
  {
   "cell_type": "code",
   "execution_count": 8,
   "id": "e3da8071",
   "metadata": {},
   "outputs": [
    {
     "data": {
      "text/plain": [
       "DatetimeIndex(['1987-01-01', '1987-02-01', '1987-03-01', '1987-04-01',\n",
       "               '1987-05-01', '1987-06-01', '1987-07-01', '1987-08-01',\n",
       "               '1987-09-01', '1987-10-01',\n",
       "               ...\n",
       "               '2022-09-01', '2022-10-01', '2022-11-01', '2022-12-01',\n",
       "               '2023-01-01', '2023-02-01', '2023-03-01', '2023-04-01',\n",
       "               '2023-05-01', '2023-06-01'],\n",
       "              dtype='datetime64[ns]', name='DATE', length=438, freq=None)"
      ]
     },
     "execution_count": 8,
     "metadata": {},
     "output_type": "execute_result"
    }
   ],
   "source": [
    "# Check if date has been defined as an index\n",
    "df.index"
   ]
  },
  {
   "cell_type": "code",
   "execution_count": 9,
   "id": "3dc2c993",
   "metadata": {},
   "outputs": [],
   "source": [
    "#Creating separate columns for 'Year','Month','Day' and 'WeekofYear'"
   ]
  },
  {
   "cell_type": "markdown",
   "id": "17f67f29",
   "metadata": {},
   "source": [
    "Creating separate columns for 'Year,' 'Month,' 'Day,' and 'WeekofYear' can be beneficial when working with time series data. These additional columns can help capture and utilize temporal patterns and seasonality in dataset"
   ]
  },
  {
   "cell_type": "code",
   "execution_count": 10,
   "id": "a396106a",
   "metadata": {},
   "outputs": [
    {
     "name": "stderr",
     "output_type": "stream",
     "text": [
      "C:\\Users\\Nandhini\\AppData\\Local\\Temp/ipykernel_4784/2020347765.py:4: FutureWarning: weekofyear and week have been deprecated, please use DatetimeIndex.isocalendar().week instead, which returns a Series.  To exactly reproduce the behavior of week and weekofyear and return an Index, you may call pd.Int64Index(idx.isocalendar().week)\n",
      "  df['WeekOfYear'] = df.index.weekofyear\n"
     ]
    },
    {
     "data": {
      "text/html": [
       "<div>\n",
       "<style scoped>\n",
       "    .dataframe tbody tr th:only-of-type {\n",
       "        vertical-align: middle;\n",
       "    }\n",
       "\n",
       "    .dataframe tbody tr th {\n",
       "        vertical-align: top;\n",
       "    }\n",
       "\n",
       "    .dataframe thead th {\n",
       "        text-align: right;\n",
       "    }\n",
       "</style>\n",
       "<table border=\"1\" class=\"dataframe\">\n",
       "  <thead>\n",
       "    <tr style=\"text-align: right;\">\n",
       "      <th></th>\n",
       "      <th>CSUSHPISA</th>\n",
       "      <th>Year</th>\n",
       "      <th>Month</th>\n",
       "      <th>Day</th>\n",
       "      <th>WeekOfYear</th>\n",
       "    </tr>\n",
       "    <tr>\n",
       "      <th>DATE</th>\n",
       "      <th></th>\n",
       "      <th></th>\n",
       "      <th></th>\n",
       "      <th></th>\n",
       "      <th></th>\n",
       "    </tr>\n",
       "  </thead>\n",
       "  <tbody>\n",
       "    <tr>\n",
       "      <th>1987-01-01</th>\n",
       "      <td>63.965</td>\n",
       "      <td>1987</td>\n",
       "      <td>1</td>\n",
       "      <td>1</td>\n",
       "      <td>1</td>\n",
       "    </tr>\n",
       "    <tr>\n",
       "      <th>1987-02-01</th>\n",
       "      <td>64.424</td>\n",
       "      <td>1987</td>\n",
       "      <td>2</td>\n",
       "      <td>1</td>\n",
       "      <td>5</td>\n",
       "    </tr>\n",
       "    <tr>\n",
       "      <th>1987-03-01</th>\n",
       "      <td>64.735</td>\n",
       "      <td>1987</td>\n",
       "      <td>3</td>\n",
       "      <td>1</td>\n",
       "      <td>9</td>\n",
       "    </tr>\n",
       "    <tr>\n",
       "      <th>1987-04-01</th>\n",
       "      <td>65.131</td>\n",
       "      <td>1987</td>\n",
       "      <td>4</td>\n",
       "      <td>1</td>\n",
       "      <td>14</td>\n",
       "    </tr>\n",
       "    <tr>\n",
       "      <th>1987-05-01</th>\n",
       "      <td>65.563</td>\n",
       "      <td>1987</td>\n",
       "      <td>5</td>\n",
       "      <td>1</td>\n",
       "      <td>18</td>\n",
       "    </tr>\n",
       "  </tbody>\n",
       "</table>\n",
       "</div>"
      ],
      "text/plain": [
       "            CSUSHPISA  Year  Month  Day  WeekOfYear\n",
       "DATE                                               \n",
       "1987-01-01     63.965  1987      1    1           1\n",
       "1987-02-01     64.424  1987      2    1           5\n",
       "1987-03-01     64.735  1987      3    1           9\n",
       "1987-04-01     65.131  1987      4    1          14\n",
       "1987-05-01     65.563  1987      5    1          18"
      ]
     },
     "execution_count": 10,
     "metadata": {},
     "output_type": "execute_result"
    }
   ],
   "source": [
    "df['Year'] = df.index.year\n",
    "df['Month'] = df.index.month\n",
    "df['Day'] = df.index.day\n",
    "df['WeekOfYear'] = df.index.weekofyear\n",
    "df.head()"
   ]
  },
  {
   "cell_type": "code",
   "execution_count": 11,
   "id": "4f99f0d6",
   "metadata": {},
   "outputs": [],
   "source": [
    "# Data Exploration\n",
    "# Plot the time series to visualize trends and seasonality"
   ]
  },
  {
   "cell_type": "code",
   "execution_count": 12,
   "id": "1e6f8f8c",
   "metadata": {},
   "outputs": [
    {
     "data": {
      "image/png": "[encoded data removed]",
      "text/plain": [
       "<Figure size 864x432 with 1 Axes>"
      ]
     },
     "metadata": {
      "needs_background": "light"
     },
     "output_type": "display_data"
    }
   ],
   "source": [
    "plt.figure(figsize=(12, 6))\n",
    "plt.plot(df['CSUSHPISA'], label='CSUSHPISA')\n",
    "plt.title('Case-Shiller Home Price Index Over Time')\n",
    "plt.xlabel('Year')\n",
    "plt.ylabel('Home Price Index')\n",
    "plt.legend()\n",
    "plt.show()"
   ]
  },
  {
   "cell_type": "code",
   "execution_count": 13,
   "id": "df381457",
   "metadata": {},
   "outputs": [
    {
     "data": {
      "image/png": "[encoded data removed]",
      "text/plain": [
       "<Figure size 1080x288 with 1 Axes>"
      ]
     },
     "metadata": {
      "needs_background": "light"
     },
     "output_type": "display_data"
    }
   ],
   "source": [
    "## Plot for every year\n",
    "fig, (axis1) = plt.subplots(1,figsize=(15,4))\n",
    "\n",
    "sns.barplot(x='Year', y='CSUSHPISA', data=df, ax=axis1);"
   ]
  },
  {
   "cell_type": "code",
   "execution_count": 14,
   "id": "0d5ae509",
   "metadata": {},
   "outputs": [
    {
     "data": {
      "image/png": "[encoded data removed]",
      "text/plain": [
       "<Figure size 864x576 with 4 Axes>"
      ]
     },
     "metadata": {
      "needs_background": "light"
     },
     "output_type": "display_data"
    }
   ],
   "source": [
    "# Time Series Decomposition\n",
    "import statsmodels.api as sm\n",
    "decomposition = sm.tsa.seasonal_decompose(df['CSUSHPISA'], model='additive')\n",
    "trend = decomposition.trend\n",
    "seasonal = decomposition.seasonal\n",
    "residual = decomposition.resid\n",
    "# Let's check the trend in the data set\n",
    "plt.figure(figsize=(12, 8))\n",
    "plt.subplot(411)\n",
    "plt.plot(df['CSUSHPISA'], label='Original')\n",
    "plt.legend(loc='upper left')\n",
    "plt.subplot(412)\n",
    "plt.plot(trend, label='Trend')\n",
    "plt.legend(loc='upper left')\n",
    "plt.subplot(413)\n",
    "plt.plot(seasonal, label='Seasonal')\n",
    "plt.legend(loc='upper left')\n",
    "plt.subplot(414)\n",
    "plt.plot(residual, label='Residual')\n",
    "plt.legend(loc='upper left')\n",
    "plt.tight_layout()\n",
    "plt.show()"
   ]
  },
  {
   "cell_type": "code",
   "execution_count": 15,
   "id": "70725125",
   "metadata": {},
   "outputs": [],
   "source": [
    "# Train-Test Split\n",
    "# Assuming you want to use the last 12 months as the test set\n",
    "train = df[:-12]\n",
    "test = df[-12:]\n"
   ]
  },
  {
   "cell_type": "code",
   "execution_count": 16,
   "id": "148ad4cc",
   "metadata": {},
   "outputs": [],
   "source": [
    "## This is to display multiple data frames from one cell\n",
    "from IPython.display import display"
   ]
  },
  {
   "cell_type": "code",
   "execution_count": 17,
   "id": "bfaef515",
   "metadata": {},
   "outputs": [
    {
     "name": "stdout",
     "output_type": "stream",
     "text": [
      "First few rows of Training Data\n"
     ]
    },
    {
     "data": {
      "text/html": [
       "<div>\n",
       "<style scoped>\n",
       "    .dataframe tbody tr th:only-of-type {\n",
       "        vertical-align: middle;\n",
       "    }\n",
       "\n",
       "    .dataframe tbody tr th {\n",
       "        vertical-align: top;\n",
       "    }\n",
       "\n",
       "    .dataframe thead th {\n",
       "        text-align: right;\n",
       "    }\n",
       "</style>\n",
       "<table border=\"1\" class=\"dataframe\">\n",
       "  <thead>\n",
       "    <tr style=\"text-align: right;\">\n",
       "      <th></th>\n",
       "      <th>CSUSHPISA</th>\n",
       "      <th>Year</th>\n",
       "      <th>Month</th>\n",
       "      <th>Day</th>\n",
       "      <th>WeekOfYear</th>\n",
       "    </tr>\n",
       "    <tr>\n",
       "      <th>DATE</th>\n",
       "      <th></th>\n",
       "      <th></th>\n",
       "      <th></th>\n",
       "      <th></th>\n",
       "      <th></th>\n",
       "    </tr>\n",
       "  </thead>\n",
       "  <tbody>\n",
       "    <tr>\n",
       "      <th>1987-01-01</th>\n",
       "      <td>63.965</td>\n",
       "      <td>1987</td>\n",
       "      <td>1</td>\n",
       "      <td>1</td>\n",
       "      <td>1</td>\n",
       "    </tr>\n",
       "    <tr>\n",
       "      <th>1987-02-01</th>\n",
       "      <td>64.424</td>\n",
       "      <td>1987</td>\n",
       "      <td>2</td>\n",
       "      <td>1</td>\n",
       "      <td>5</td>\n",
       "    </tr>\n",
       "    <tr>\n",
       "      <th>1987-03-01</th>\n",
       "      <td>64.735</td>\n",
       "      <td>1987</td>\n",
       "      <td>3</td>\n",
       "      <td>1</td>\n",
       "      <td>9</td>\n",
       "    </tr>\n",
       "    <tr>\n",
       "      <th>1987-04-01</th>\n",
       "      <td>65.131</td>\n",
       "      <td>1987</td>\n",
       "      <td>4</td>\n",
       "      <td>1</td>\n",
       "      <td>14</td>\n",
       "    </tr>\n",
       "    <tr>\n",
       "      <th>1987-05-01</th>\n",
       "      <td>65.563</td>\n",
       "      <td>1987</td>\n",
       "      <td>5</td>\n",
       "      <td>1</td>\n",
       "      <td>18</td>\n",
       "    </tr>\n",
       "  </tbody>\n",
       "</table>\n",
       "</div>"
      ],
      "text/plain": [
       "            CSUSHPISA  Year  Month  Day  WeekOfYear\n",
       "DATE                                               \n",
       "1987-01-01     63.965  1987      1    1           1\n",
       "1987-02-01     64.424  1987      2    1           5\n",
       "1987-03-01     64.735  1987      3    1           9\n",
       "1987-04-01     65.131  1987      4    1          14\n",
       "1987-05-01     65.563  1987      5    1          18"
      ]
     },
     "metadata": {},
     "output_type": "display_data"
    },
    {
     "name": "stdout",
     "output_type": "stream",
     "text": [
      "Last few rows of Training Data\n"
     ]
    },
    {
     "data": {
      "text/html": [
       "<div>\n",
       "<style scoped>\n",
       "    .dataframe tbody tr th:only-of-type {\n",
       "        vertical-align: middle;\n",
       "    }\n",
       "\n",
       "    .dataframe tbody tr th {\n",
       "        vertical-align: top;\n",
       "    }\n",
       "\n",
       "    .dataframe thead th {\n",
       "        text-align: right;\n",
       "    }\n",
       "</style>\n",
       "<table border=\"1\" class=\"dataframe\">\n",
       "  <thead>\n",
       "    <tr style=\"text-align: right;\">\n",
       "      <th></th>\n",
       "      <th>CSUSHPISA</th>\n",
       "      <th>Year</th>\n",
       "      <th>Month</th>\n",
       "      <th>Day</th>\n",
       "      <th>WeekOfYear</th>\n",
       "    </tr>\n",
       "    <tr>\n",
       "      <th>DATE</th>\n",
       "      <th></th>\n",
       "      <th></th>\n",
       "      <th></th>\n",
       "      <th></th>\n",
       "      <th></th>\n",
       "    </tr>\n",
       "  </thead>\n",
       "  <tbody>\n",
       "    <tr>\n",
       "      <th>2022-02-01</th>\n",
       "      <td>290.795</td>\n",
       "      <td>2022</td>\n",
       "      <td>2</td>\n",
       "      <td>1</td>\n",
       "      <td>5</td>\n",
       "    </tr>\n",
       "    <tr>\n",
       "      <th>2022-03-01</th>\n",
       "      <td>296.271</td>\n",
       "      <td>2022</td>\n",
       "      <td>3</td>\n",
       "      <td>1</td>\n",
       "      <td>9</td>\n",
       "    </tr>\n",
       "    <tr>\n",
       "      <th>2022-04-01</th>\n",
       "      <td>300.625</td>\n",
       "      <td>2022</td>\n",
       "      <td>4</td>\n",
       "      <td>1</td>\n",
       "      <td>13</td>\n",
       "    </tr>\n",
       "    <tr>\n",
       "      <th>2022-05-01</th>\n",
       "      <td>303.904</td>\n",
       "      <td>2022</td>\n",
       "      <td>5</td>\n",
       "      <td>1</td>\n",
       "      <td>17</td>\n",
       "    </tr>\n",
       "    <tr>\n",
       "      <th>2022-06-01</th>\n",
       "      <td>304.817</td>\n",
       "      <td>2022</td>\n",
       "      <td>6</td>\n",
       "      <td>1</td>\n",
       "      <td>22</td>\n",
       "    </tr>\n",
       "  </tbody>\n",
       "</table>\n",
       "</div>"
      ],
      "text/plain": [
       "            CSUSHPISA  Year  Month  Day  WeekOfYear\n",
       "DATE                                               \n",
       "2022-02-01    290.795  2022      2    1           5\n",
       "2022-03-01    296.271  2022      3    1           9\n",
       "2022-04-01    300.625  2022      4    1          13\n",
       "2022-05-01    303.904  2022      5    1          17\n",
       "2022-06-01    304.817  2022      6    1          22"
      ]
     },
     "metadata": {},
     "output_type": "display_data"
    },
    {
     "name": "stdout",
     "output_type": "stream",
     "text": [
      "First few rows of Test Data\n"
     ]
    },
    {
     "data": {
      "text/html": [
       "<div>\n",
       "<style scoped>\n",
       "    .dataframe tbody tr th:only-of-type {\n",
       "        vertical-align: middle;\n",
       "    }\n",
       "\n",
       "    .dataframe tbody tr th {\n",
       "        vertical-align: top;\n",
       "    }\n",
       "\n",
       "    .dataframe thead th {\n",
       "        text-align: right;\n",
       "    }\n",
       "</style>\n",
       "<table border=\"1\" class=\"dataframe\">\n",
       "  <thead>\n",
       "    <tr style=\"text-align: right;\">\n",
       "      <th></th>\n",
       "      <th>CSUSHPISA</th>\n",
       "      <th>Year</th>\n",
       "      <th>Month</th>\n",
       "      <th>Day</th>\n",
       "      <th>WeekOfYear</th>\n",
       "    </tr>\n",
       "    <tr>\n",
       "      <th>DATE</th>\n",
       "      <th></th>\n",
       "      <th></th>\n",
       "      <th></th>\n",
       "      <th></th>\n",
       "      <th></th>\n",
       "    </tr>\n",
       "  </thead>\n",
       "  <tbody>\n",
       "    <tr>\n",
       "      <th>2022-07-01</th>\n",
       "      <td>304.108</td>\n",
       "      <td>2022</td>\n",
       "      <td>7</td>\n",
       "      <td>1</td>\n",
       "      <td>26</td>\n",
       "    </tr>\n",
       "    <tr>\n",
       "      <th>2022-08-01</th>\n",
       "      <td>301.638</td>\n",
       "      <td>2022</td>\n",
       "      <td>8</td>\n",
       "      <td>1</td>\n",
       "      <td>31</td>\n",
       "    </tr>\n",
       "    <tr>\n",
       "      <th>2022-09-01</th>\n",
       "      <td>299.443</td>\n",
       "      <td>2022</td>\n",
       "      <td>9</td>\n",
       "      <td>1</td>\n",
       "      <td>35</td>\n",
       "    </tr>\n",
       "    <tr>\n",
       "      <th>2022-10-01</th>\n",
       "      <td>299.017</td>\n",
       "      <td>2022</td>\n",
       "      <td>10</td>\n",
       "      <td>1</td>\n",
       "      <td>39</td>\n",
       "    </tr>\n",
       "    <tr>\n",
       "      <th>2022-11-01</th>\n",
       "      <td>298.232</td>\n",
       "      <td>2022</td>\n",
       "      <td>11</td>\n",
       "      <td>1</td>\n",
       "      <td>44</td>\n",
       "    </tr>\n",
       "  </tbody>\n",
       "</table>\n",
       "</div>"
      ],
      "text/plain": [
       "            CSUSHPISA  Year  Month  Day  WeekOfYear\n",
       "DATE                                               \n",
       "2022-07-01    304.108  2022      7    1          26\n",
       "2022-08-01    301.638  2022      8    1          31\n",
       "2022-09-01    299.443  2022      9    1          35\n",
       "2022-10-01    299.017  2022     10    1          39\n",
       "2022-11-01    298.232  2022     11    1          44"
      ]
     },
     "metadata": {},
     "output_type": "display_data"
    },
    {
     "name": "stdout",
     "output_type": "stream",
     "text": [
      "Last few rows of Test Data\n"
     ]
    },
    {
     "data": {
      "text/html": [
       "<div>\n",
       "<style scoped>\n",
       "    .dataframe tbody tr th:only-of-type {\n",
       "        vertical-align: middle;\n",
       "    }\n",
       "\n",
       "    .dataframe tbody tr th {\n",
       "        vertical-align: top;\n",
       "    }\n",
       "\n",
       "    .dataframe thead th {\n",
       "        text-align: right;\n",
       "    }\n",
       "</style>\n",
       "<table border=\"1\" class=\"dataframe\">\n",
       "  <thead>\n",
       "    <tr style=\"text-align: right;\">\n",
       "      <th></th>\n",
       "      <th>CSUSHPISA</th>\n",
       "      <th>Year</th>\n",
       "      <th>Month</th>\n",
       "      <th>Day</th>\n",
       "      <th>WeekOfYear</th>\n",
       "    </tr>\n",
       "    <tr>\n",
       "      <th>DATE</th>\n",
       "      <th></th>\n",
       "      <th></th>\n",
       "      <th></th>\n",
       "      <th></th>\n",
       "      <th></th>\n",
       "    </tr>\n",
       "  </thead>\n",
       "  <tbody>\n",
       "    <tr>\n",
       "      <th>2023-02-01</th>\n",
       "      <td>296.958</td>\n",
       "      <td>2023</td>\n",
       "      <td>2</td>\n",
       "      <td>1</td>\n",
       "      <td>5</td>\n",
       "    </tr>\n",
       "    <tr>\n",
       "      <th>2023-03-01</th>\n",
       "      <td>298.210</td>\n",
       "      <td>2023</td>\n",
       "      <td>3</td>\n",
       "      <td>1</td>\n",
       "      <td>9</td>\n",
       "    </tr>\n",
       "    <tr>\n",
       "      <th>2023-04-01</th>\n",
       "      <td>300.214</td>\n",
       "      <td>2023</td>\n",
       "      <td>4</td>\n",
       "      <td>1</td>\n",
       "      <td>13</td>\n",
       "    </tr>\n",
       "    <tr>\n",
       "      <th>2023-05-01</th>\n",
       "      <td>302.657</td>\n",
       "      <td>2023</td>\n",
       "      <td>5</td>\n",
       "      <td>1</td>\n",
       "      <td>18</td>\n",
       "    </tr>\n",
       "    <tr>\n",
       "      <th>2023-06-01</th>\n",
       "      <td>304.635</td>\n",
       "      <td>2023</td>\n",
       "      <td>6</td>\n",
       "      <td>1</td>\n",
       "      <td>22</td>\n",
       "    </tr>\n",
       "  </tbody>\n",
       "</table>\n",
       "</div>"
      ],
      "text/plain": [
       "            CSUSHPISA  Year  Month  Day  WeekOfYear\n",
       "DATE                                               \n",
       "2023-02-01    296.958  2023      2    1           5\n",
       "2023-03-01    298.210  2023      3    1           9\n",
       "2023-04-01    300.214  2023      4    1          13\n",
       "2023-05-01    302.657  2023      5    1          18\n",
       "2023-06-01    304.635  2023      6    1          22"
      ]
     },
     "metadata": {},
     "output_type": "display_data"
    }
   ],
   "source": [
    "print('First few rows of Training Data')\n",
    "display(train.head())\n",
    "print('Last few rows of Training Data')\n",
    "display(train.tail())\n",
    "print('First few rows of Test Data')\n",
    "display(test.head())\n",
    "print('Last few rows of Test Data')\n",
    "display(test.tail())"
   ]
  },
  {
   "cell_type": "code",
   "execution_count": 18,
   "id": "abeccbfa",
   "metadata": {},
   "outputs": [
    {
     "name": "stdout",
     "output_type": "stream",
     "text": [
      "(426, 5)\n",
      "(12, 5)\n"
     ]
    }
   ],
   "source": [
    "print(train.shape)\n",
    "print(test.shape)"
   ]
  },
  {
   "cell_type": "code",
   "execution_count": 19,
   "id": "f4bbd23c",
   "metadata": {},
   "outputs": [
    {
     "name": "stdout",
     "output_type": "stream",
     "text": [
      "Training Time instance \n",
      " [1, 2, 3, 4, 5, 6, 7, 8, 9, 10, 11, 12, 13, 14, 15, 16, 17, 18, 19, 20, 21, 22, 23, 24, 25, 26, 27, 28, 29, 30, 31, 32, 33, 34, 35, 36, 37, 38, 39, 40, 41, 42, 43, 44, 45, 46, 47, 48, 49, 50, 51, 52, 53, 54, 55, 56, 57, 58, 59, 60, 61, 62, 63, 64, 65, 66, 67, 68, 69, 70, 71, 72, 73, 74, 75, 76, 77, 78, 79, 80, 81, 82, 83, 84, 85, 86, 87, 88, 89, 90, 91, 92, 93, 94, 95, 96, 97, 98, 99, 100, 101, 102, 103, 104, 105, 106, 107, 108, 109, 110, 111, 112, 113, 114, 115, 116, 117, 118, 119, 120, 121, 122, 123, 124, 125, 126, 127, 128, 129, 130, 131, 132, 133, 134, 135, 136, 137, 138, 139, 140, 141, 142, 143, 144, 145, 146, 147, 148, 149, 150, 151, 152, 153, 154, 155, 156, 157, 158, 159, 160, 161, 162, 163, 164, 165, 166, 167, 168, 169, 170, 171, 172, 173, 174, 175, 176, 177, 178, 179, 180, 181, 182, 183, 184, 185, 186, 187, 188, 189, 190, 191, 192, 193, 194, 195, 196, 197, 198, 199, 200, 201, 202, 203, 204, 205, 206, 207, 208, 209, 210, 211, 212, 213, 214, 215, 216, 217, 218, 219, 220, 221, 222, 223, 224, 225, 226, 227, 228, 229, 230, 231, 232, 233, 234, 235, 236, 237, 238, 239, 240, 241, 242, 243, 244, 245, 246, 247, 248, 249, 250, 251, 252, 253, 254, 255, 256, 257, 258, 259, 260, 261, 262, 263, 264, 265, 266, 267, 268, 269, 270, 271, 272, 273, 274, 275, 276, 277, 278, 279, 280, 281, 282, 283, 284, 285, 286, 287, 288, 289, 290, 291, 292, 293, 294, 295, 296, 297, 298, 299, 300, 301, 302, 303, 304, 305, 306, 307, 308, 309, 310, 311, 312, 313, 314, 315, 316, 317, 318, 319, 320, 321, 322, 323, 324, 325, 326, 327, 328, 329, 330, 331, 332, 333, 334, 335, 336, 337, 338, 339, 340, 341, 342, 343, 344, 345, 346, 347, 348, 349, 350, 351, 352, 353, 354, 355, 356, 357, 358, 359, 360, 361, 362, 363, 364, 365, 366, 367, 368, 369, 370, 371, 372, 373, 374, 375, 376, 377, 378, 379, 380, 381, 382, 383, 384, 385, 386, 387, 388, 389, 390, 391, 392, 393, 394, 395, 396, 397, 398, 399, 400, 401, 402, 403, 404, 405, 406, 407, 408, 409, 410, 411, 412, 413, 414, 415, 416, 417, 418, 419, 420, 421, 422, 423, 424, 425, 426]\n",
      "Test Time instance \n",
      " [43, 44, 45, 46, 47, 48, 49, 50, 51, 52, 53, 54]\n"
     ]
    }
   ],
   "source": [
    "train_time = [i+1 for i in range(len(train))]\n",
    "test_time = [i+43 for i in range(len(test))]\n",
    "print('Training Time instance','\\n',train_time)\n",
    "print('Test Time instance','\\n',test_time)"
   ]
  },
  {
   "cell_type": "code",
   "execution_count": 20,
   "id": "e7d49ecf",
   "metadata": {},
   "outputs": [],
   "source": [
    "LinearRegression_train = train.copy()\n",
    "LinearRegression_test = test.copy()"
   ]
  },
  {
   "cell_type": "code",
   "execution_count": 21,
   "id": "ad15dbc3",
   "metadata": {},
   "outputs": [
    {
     "name": "stdout",
     "output_type": "stream",
     "text": [
      "First few rows of Training Data \n",
      "             CSUSHPISA  Year  Month  Day  WeekOfYear  time\n",
      "DATE                                                     \n",
      "1987-01-01     63.965  1987      1    1           1     1\n",
      "1987-02-01     64.424  1987      2    1           5     2\n",
      "1987-03-01     64.735  1987      3    1           9     3\n",
      "1987-04-01     65.131  1987      4    1          14     4\n",
      "1987-05-01     65.563  1987      5    1          18     5 \n",
      "\n",
      "Last few rows of Training Data \n",
      "             CSUSHPISA  Year  Month  Day  WeekOfYear  time\n",
      "DATE                                                     \n",
      "2022-02-01    290.795  2022      2    1           5   422\n",
      "2022-03-01    296.271  2022      3    1           9   423\n",
      "2022-04-01    300.625  2022      4    1          13   424\n",
      "2022-05-01    303.904  2022      5    1          17   425\n",
      "2022-06-01    304.817  2022      6    1          22   426 \n",
      "\n",
      "First few rows of Test Data \n",
      "             CSUSHPISA  Year  Month  Day  WeekOfYear  time\n",
      "DATE                                                     \n",
      "2022-07-01    304.108  2022      7    1          26    43\n",
      "2022-08-01    301.638  2022      8    1          31    44\n",
      "2022-09-01    299.443  2022      9    1          35    45\n",
      "2022-10-01    299.017  2022     10    1          39    46\n",
      "2022-11-01    298.232  2022     11    1          44    47 \n",
      "\n",
      "Last few rows of Test Data \n",
      "             CSUSHPISA  Year  Month  Day  WeekOfYear  time\n",
      "DATE                                                     \n",
      "2023-02-01    296.958  2023      2    1           5    50\n",
      "2023-03-01    298.210  2023      3    1           9    51\n",
      "2023-04-01    300.214  2023      4    1          13    52\n",
      "2023-05-01    302.657  2023      5    1          18    53\n",
      "2023-06-01    304.635  2023      6    1          22    54 \n",
      "\n"
     ]
    }
   ],
   "source": [
    "LinearRegression_train['time'] = train_time\n",
    "LinearRegression_test['time'] = test_time\n",
    "\n",
    "print('First few rows of Training Data','\\n',LinearRegression_train.head(),'\\n')\n",
    "print('Last few rows of Training Data','\\n',LinearRegression_train.tail(),'\\n')\n",
    "print('First few rows of Test Data','\\n',LinearRegression_test.head(),'\\n')\n",
    "print('Last few rows of Test Data','\\n',LinearRegression_test.tail(),'\\n')"
   ]
  },
  {
   "cell_type": "code",
   "execution_count": 22,
   "id": "0a38bf1e",
   "metadata": {},
   "outputs": [],
   "source": [
    "from sklearn.linear_model import LinearRegression\n",
    "from sklearn.model_selection import train_test_split\n",
    "from sklearn.metrics import mean_squared_error, r2_score\n",
    "\n",
    "#Assuming you have a DataFrame named 'df' with columns: 'Year', 'Month', 'Day', 'WeekOfYear', 'CSUSHPISA', and other features.\n",
    "\n",
    "# Splitting the data into predictors (X) and the target variable (y)\n",
    "X = df[['Year', 'Month', 'Day', 'WeekOfYear']]  # Include other relevant features\n",
    "y = df['CSUSHPISA']"
   ]
  },
  {
   "cell_type": "code",
   "execution_count": 23,
   "id": "6c7c289d",
   "metadata": {},
   "outputs": [
    {
     "data": {
      "text/plain": [
       "LinearRegression()"
      ]
     },
     "execution_count": 23,
     "metadata": {},
     "output_type": "execute_result"
    }
   ],
   "source": [
    "# Splitting the data into training and testing sets\n",
    "X_train, X_test, y_train, y_test = train_test_split(X, y, test_size=0.2, random_state=42)\n",
    "# Creating and fitting the linear regression model\n",
    "lr = LinearRegression()\n",
    "lr.fit(X_train, y_train)"
   ]
  },
  {
   "cell_type": "code",
   "execution_count": 24,
   "id": "d23e3e5b",
   "metadata": {},
   "outputs": [],
   "source": [
    "# Making predictions\n",
    "y_train_pred = lr.predict(X_train)\n",
    "y_test_pred = lr.predict(X_test)"
   ]
  },
  {
   "cell_type": "code",
   "execution_count": 25,
   "id": "fc00d53f",
   "metadata": {},
   "outputs": [
    {
     "data": {
      "text/plain": [
       "[<matplotlib.lines.Line2D at 0x2584e85dee0>]"
      ]
     },
     "execution_count": 25,
     "metadata": {},
     "output_type": "execute_result"
    },
    {
     "data": {
      "image/png": "[encoded data removed]",
      "text/plain": [
       "<Figure size 864x432 with 1 Axes>"
      ]
     },
     "metadata": {
      "needs_background": "light"
     },
     "output_type": "display_data"
    }
   ],
   "source": [
    "# Plot actual vs. predicted for training data\n",
    "plt.figure(figsize=(12, 6))\n",
    "plt.subplot(1, 2, 1)\n",
    "plt.scatter(y_train, y_train_pred, c='blue', label='Training Data')\n",
    "plt.xlabel('Actual Values')\n",
    "plt.ylabel('Predicted Values')\n",
    "plt.title('Actual vs. Predicted (Training Data)')\n",
    "plt.plot([min(y_train), max(y_train)], [min(y_train), max(y_train)], linestyle='--', color='red')"
   ]
  },
  {
   "cell_type": "code",
   "execution_count": 26,
   "id": "27fa1f50",
   "metadata": {},
   "outputs": [
    {
     "data": {
      "text/plain": [
       "[<matplotlib.lines.Line2D at 0x2584e8dd3a0>]"
      ]
     },
     "execution_count": 26,
     "metadata": {},
     "output_type": "execute_result"
    },
    {
     "data": {
      "image/png": "[encoded data removed]",
      "text/plain": [
       "<Figure size 432x288 with 1 Axes>"
      ]
     },
     "metadata": {
      "needs_background": "light"
     },
     "output_type": "display_data"
    }
   ],
   "source": [
    "# Plot actual vs. predicted for testing data\n",
    "plt.subplot(1, 2, 2)\n",
    "plt.scatter(y_test, y_test_pred, c='green', label='Test Data')\n",
    "plt.xlabel('Actual Values')\n",
    "plt.ylabel('Predicted Values')\n",
    "plt.title('Actual vs. Predicted (Test Data)')\n",
    "plt.plot([min(y_test), max(y_test)], [min(y_test), max(y_test)], linestyle='--', color='red')"
   ]
  },
  {
   "cell_type": "code",
   "execution_count": 27,
   "id": "d623db86",
   "metadata": {},
   "outputs": [],
   "source": [
    "# Evaluation Metrics\n",
    "train_rmse = np.sqrt(mean_squared_error(y_train, y_train_pred))\n",
    "test_rmse = np.sqrt(mean_squared_error(y_test, y_test_pred))\n",
    "r2_train = r2_score(y_train, y_train_pred)\n",
    "r2_test = r2_score(y_test, y_test_pred)"
   ]
  },
  {
   "cell_type": "code",
   "execution_count": 28,
   "id": "8121652a",
   "metadata": {},
   "outputs": [
    {
     "name": "stdout",
     "output_type": "stream",
     "text": [
      "Training RMSE: 22.76\n",
      "Testing RMSE: 24.96\n",
      "R-squared (Training): 0.84\n",
      "R-squared (Testing): 0.87\n"
     ]
    }
   ],
   "source": [
    "print(f'Training RMSE: {train_rmse:.2f}')\n",
    "print(f'Testing RMSE: {test_rmse:.2f}')\n",
    "print(f'R-squared (Training): {r2_train:.2f}')\n",
    "print(f'R-squared (Testing): {r2_test:.2f}')"
   ]
  },
  {
   "cell_type": "code",
   "execution_count": 29,
   "id": "25ccb20a",
   "metadata": {},
   "outputs": [
    {
     "data": {
      "text/plain": [
       "<Figure size 432x288 with 0 Axes>"
      ]
     },
     "metadata": {},
     "output_type": "display_data"
    }
   ],
   "source": [
    "# Show the plots\n",
    "plt.tight_layout()\n",
    "plt.show()"
   ]
  },
  {
   "cell_type": "markdown",
   "id": "22657ef4",
   "metadata": {},
   "source": [
    "The results suggest that linear regression model is performing reasonably well in explaining the variance in the Case-Shiller Home Price Index. The R-squared values, especially for testing, are relatively high, indicating that the model generalizes well to unseen data. However, keep in mind that while the model is performing well, there may still be room for improvement, and we can consider exploring more complex models or additional features to further enhance its performance"
   ]
  },
  {
   "cell_type": "markdown",
   "id": "f75b5f0c",
   "metadata": {},
   "source": [
    "Exponential Smoothing (Holt-Winters):"
   ]
  },
  {
   "cell_type": "code",
   "execution_count": 30,
   "id": "bc64e450",
   "metadata": {},
   "outputs": [
    {
     "name": "stdout",
     "output_type": "stream",
     "text": [
      "Exponential Smoothing RMSE: 72.95\n"
     ]
    },
    {
     "name": "stderr",
     "output_type": "stream",
     "text": [
      "C:\\Users\\Nandhini\\Anaconda3\\lib\\site-packages\\statsmodels\\tsa\\base\\tsa_model.py:581: ValueWarning: A date index has been provided, but it has no associated frequency information and so will be ignored when e.g. forecasting.\n",
      "  warnings.warn('A date index has been provided, but it has no'\n",
      "C:\\Users\\Nandhini\\Anaconda3\\lib\\site-packages\\statsmodels\\tsa\\base\\tsa_model.py:585: ValueWarning: A date index has been provided, but it is not monotonic and so will be ignored when e.g. forecasting.\n",
      "  warnings.warn('A date index has been provided, but it is not'\n",
      "C:\\Users\\Nandhini\\Anaconda3\\lib\\site-packages\\statsmodels\\tsa\\holtwinters\\model.py:427: FutureWarning: After 0.13 initialization must be handled at model creation\n",
      "  warnings.warn(\n",
      "C:\\Users\\Nandhini\\Anaconda3\\lib\\site-packages\\statsmodels\\tsa\\base\\tsa_model.py:376: ValueWarning: No supported index is available. Prediction results will be given with an integer index beginning at `start`.\n",
      "  warnings.warn('No supported index is available.'\n"
     ]
    }
   ],
   "source": [
    "from statsmodels.tsa.holtwinters import ExponentialSmoothing\n",
    "\n",
    "# Fit the Exponential Smoothing model to the training data\n",
    "model = ExponentialSmoothing(y_train, seasonal='add', seasonal_periods=12)\n",
    "model_fit = model.fit()\n",
    "\n",
    "# Make predictions on the test data\n",
    "y_pred_exponential = model_fit.forecast(len(X_test))\n",
    "\n",
    "# Calculate RMSE or other evaluation metrics for Exponential Smoothing\n",
    "rmse_exponential = np.sqrt(mean_squared_error(y_test, y_pred_exponential))\n",
    "print(f'Exponential Smoothing RMSE: {rmse_exponential:.2f}')"
   ]
  },
  {
   "cell_type": "markdown",
   "id": "1a919061",
   "metadata": {},
   "source": [
    "Naive Model:"
   ]
  },
  {
   "cell_type": "code",
   "execution_count": 31,
   "id": "ee6ea6e5",
   "metadata": {},
   "outputs": [
    {
     "name": "stdout",
     "output_type": "stream",
     "text": [
      "Naive Model RMSE: 98.35\n"
     ]
    }
   ],
   "source": [
    "# Create a Naive Model that predicts the next month's value as the current month's value\n",
    "y_pred_naive = y_test.shift(1)\n",
    "\n",
    "# Handle missing values (NaN) in y_pred_naive\n",
    "y_pred_naive = y_pred_naive.dropna()\n",
    "\n",
    "# Handle missing values (NaN) in y_test\n",
    "y_test = y_test[y_pred_naive.index]\n",
    "\n",
    "# Calculate RMSE or other evaluation metrics for the Naive Model\n",
    "rmse_naive = np.sqrt(mean_squared_error(y_test, y_pred_naive))\n",
    "print(f'Naive Model RMSE: {rmse_naive:.2f}')"
   ]
  },
  {
   "cell_type": "markdown",
   "id": "fa0979b8",
   "metadata": {},
   "source": [
    "Simple Average Model:"
   ]
  },
  {
   "cell_type": "code",
   "execution_count": 32,
   "id": "82b577be",
   "metadata": {},
   "outputs": [
    {
     "name": "stdout",
     "output_type": "stream",
     "text": [
      "Simple Average Model RMSE: 69.01\n"
     ]
    }
   ],
   "source": [
    "# Create a Simple Average Model that predicts future values as the average of all past observations\n",
    "y_pred_simple_avg = y_train.mean() * np.ones(len(y_test))\n",
    "\n",
    "# Handle any differences in the lengths of y_test and y_pred_simple_avg\n",
    "min_length = min(len(y_test), len(y_pred_simple_avg))\n",
    "y_test = y_test[:min_length]\n",
    "y_pred_simple_avg = y_pred_simple_avg[:min_length]\n",
    "\n",
    "# Calculate RMSE or other evaluation metrics for the Simple Average Model\n",
    "rmse_simple_avg = np.sqrt(mean_squared_error(y_test, y_pred_simple_avg))\n",
    "print(f'Simple Average Model RMSE: {rmse_simple_avg:.2f}')"
   ]
  },
  {
   "cell_type": "code",
   "execution_count": 33,
   "id": "d25de4fb",
   "metadata": {},
   "outputs": [
    {
     "name": "stdout",
     "output_type": "stream",
     "text": [
      "Regression on Time RMSE: 92.91\n"
     ]
    }
   ],
   "source": [
    "regression_model = LinearRegression()\n",
    "regression_model.fit(X_train, y_train)\n",
    "\n",
    "# Make predictions on the test data\n",
    "y_pred_regression = regression_model.predict(X_test)\n",
    "\n",
    "# Handle any differences in the lengths of y_test and y_pred_regression\n",
    "min_length = min(len(y_test), len(y_pred_regression))\n",
    "y_test = y_test[:min_length]\n",
    "y_pred_regression = y_pred_regression[:min_length]\n",
    "\n",
    "# Calculate RMSE or other evaluation metrics for the Regression on Time\n",
    "rmse_regression = np.sqrt(mean_squared_error(y_test, y_pred_regression))\n",
    "print(f'Regression on Time RMSE: {rmse_regression:.2f}')"
   ]
  },
  {
   "cell_type": "markdown",
   "id": "8fc98908",
   "metadata": {},
   "source": [
    "Here are the four RMSE outputs for the different models:\n",
    "\n",
    "Exponential Smoothing RMSE: 72.95\n",
    "Naive Model RMSE: 98.18\n",
    "Simple Average Model RMSE: 69.07\n",
    "Regression on Time RMSE: 95.63\n",
    "\n",
    "In summary, while the Simple Average Model and Exponential Smoothing perform relatively well in terms of RMSE, it's important to consider other factors as well, such as model interpretability and the specific objectives of analysis"
   ]
  },
  {
   "cell_type": "code",
   "execution_count": 34,
   "id": "67c3f893",
   "metadata": {},
   "outputs": [],
   "source": [
    "from statsmodels.tsa.stattools import adfuller\n",
    "def test_stationarity(timeseries):\n",
    "    #Determing rolling statistics\n",
    "    rolmean = timeseries.rolling(window=7).mean() #determining the rolling mean\n",
    "    rolstd = timeseries.rolling(window=7).std()   #determining the rolling standard deviation\n",
    "\n",
    "    #Plot rolling statistics:\n",
    "    orig = plt.plot(timeseries, color='blue',label='Original')\n",
    "    mean = plt.plot(rolmean, color='red', label='Rolling Mean')\n",
    "    std = plt.plot(rolstd, color='black', label = 'Rolling Std')\n",
    "    plt.legend(loc='best')\n",
    "    plt.title('Rolling Mean & Standard Deviation')\n",
    "    plt.show(block=False)\n",
    "    \n",
    "    #Perform Dickey-Fuller test:\n",
    "    print ('Results of Dickey-Fuller Test:')\n",
    "    dftest = adfuller(timeseries, autolag='AIC')\n",
    "    dfoutput = pd.Series(dftest[0:4], index=['Test Statistic','p-value','#Lags Used','Number of Observations Used'])\n",
    "    for key,value in dftest[4].items():\n",
    "        dfoutput['Critical Value (%s)'%key] = value\n",
    "    print (dfoutput,'\\n')"
   ]
  },
  {
   "cell_type": "code",
   "execution_count": 35,
   "id": "09214919",
   "metadata": {},
   "outputs": [
    {
     "data": {
      "image/png": "[encoded data removed]",
      "text/plain": [
       "<Figure size 432x288 with 1 Axes>"
      ]
     },
     "metadata": {
      "needs_background": "light"
     },
     "output_type": "display_data"
    },
    {
     "name": "stdout",
     "output_type": "stream",
     "text": [
      "Results of Dickey-Fuller Test:\n",
      "Test Statistic                   1.028806\n",
      "p-value                          0.994561\n",
      "#Lags Used                      18.000000\n",
      "Number of Observations Used    419.000000\n",
      "Critical Value (1%)             -3.446054\n",
      "Critical Value (5%)             -2.868463\n",
      "Critical Value (10%)            -2.570458\n",
      "dtype: float64 \n",
      "\n"
     ]
    }
   ],
   "source": [
    "test_stationarity(df['CSUSHPISA'])"
   ]
  },
  {
   "cell_type": "code",
   "execution_count": 36,
   "id": "0d96c77b",
   "metadata": {},
   "outputs": [
    {
     "data": {
      "image/png": "[encoded data removed]",
      "text/plain": [
       "<Figure size 432x288 with 1 Axes>"
      ]
     },
     "metadata": {
      "needs_background": "light"
     },
     "output_type": "display_data"
    },
    {
     "name": "stdout",
     "output_type": "stream",
     "text": [
      "Results of Dickey-Fuller Test:\n",
      "Test Statistic                  -2.703482\n",
      "p-value                          0.073438\n",
      "#Lags Used                      13.000000\n",
      "Number of Observations Used    423.000000\n",
      "Critical Value (1%)             -3.445904\n",
      "Critical Value (5%)             -2.868397\n",
      "Critical Value (10%)            -2.570423\n",
      "dtype: float64 \n",
      "\n"
     ]
    }
   ],
   "source": [
    "test_stationarity(df['CSUSHPISA'].diff().dropna())"
   ]
  },
  {
   "cell_type": "code",
   "execution_count": 37,
   "id": "6a556fb4",
   "metadata": {},
   "outputs": [
    {
     "data": {
      "image/png": "[encoded data removed]",
      "text/plain": [
       "<Figure size 432x288 with 1 Axes>"
      ]
     },
     "metadata": {
      "needs_background": "light"
     },
     "output_type": "display_data"
    }
   ],
   "source": [
    "from statsmodels.graphics.tsaplots import plot_acf, plot_pacf\n",
    "plot_acf(df['CSUSHPISA'].diff().dropna(),lags=50,title='Differenced Data Autocorrelation')\n",
    "plt.show()"
   ]
  },
  {
   "cell_type": "code",
   "execution_count": 38,
   "id": "04cccd08",
   "metadata": {},
   "outputs": [
    {
     "data": {
      "image/png": "[encoded data removed]",
      "text/plain": [
       "<Figure size 432x288 with 1 Axes>"
      ]
     },
     "metadata": {
      "needs_background": "light"
     },
     "output_type": "display_data"
    }
   ],
   "source": [
    "plot_pacf(df['CSUSHPISA'].diff().dropna(),lags=50,title='Differenced Data Partial Autocorrelation')\n",
    "plt.show()"
   ]
  },
  {
   "cell_type": "code",
   "execution_count": 65,
   "id": "01412b3d",
   "metadata": {},
   "outputs": [
    {
     "name": "stdout",
     "output_type": "stream",
     "text": [
      "Some parameter combinations for the Model...\n",
      "Model: (0, 1, 0)\n",
      "Model: (0, 1, 1)\n",
      "Model: (0, 1, 2)\n",
      "Model: (1, 1, 0)\n",
      "Model: (1, 1, 1)\n",
      "Model: (1, 1, 2)\n",
      "Model: (2, 1, 0)\n",
      "Model: (2, 1, 1)\n",
      "Model: (2, 1, 2)\n"
     ]
    }
   ],
   "source": [
    "import itertools\n",
    "p = q = range(0, 3)\n",
    "d = [1]\n",
    "pdq=list(itertools.product(p, d, q))\n",
    "print('Some parameter combinations for the Model...')\n",
    "for param in pdq:\n",
    "    print('Model: {}'.format(param))"
   ]
  },
  {
   "cell_type": "code",
   "execution_count": 66,
   "id": "5dee9271",
   "metadata": {},
   "outputs": [
    {
     "data": {
      "text/html": [
       "<div>\n",
       "<style scoped>\n",
       "    .dataframe tbody tr th:only-of-type {\n",
       "        vertical-align: middle;\n",
       "    }\n",
       "\n",
       "    .dataframe tbody tr th {\n",
       "        vertical-align: top;\n",
       "    }\n",
       "\n",
       "    .dataframe thead th {\n",
       "        text-align: right;\n",
       "    }\n",
       "</style>\n",
       "<table border=\"1\" class=\"dataframe\">\n",
       "  <thead>\n",
       "    <tr style=\"text-align: right;\">\n",
       "      <th></th>\n",
       "      <th>param</th>\n",
       "      <th>AIC</th>\n",
       "    </tr>\n",
       "  </thead>\n",
       "  <tbody>\n",
       "  </tbody>\n",
       "</table>\n",
       "</div>"
      ],
      "text/plain": [
       "Empty DataFrame\n",
       "Columns: [param, AIC]\n",
       "Index: []"
      ]
     },
     "execution_count": 66,
     "metadata": {},
     "output_type": "execute_result"
    }
   ],
   "source": [
    "ARIMA_AIC = pd.DataFrame(columns=['param', 'AIC'])\n",
    "ARIMA_AIC"
   ]
  },
  {
   "cell_type": "code",
   "execution_count": 69,
   "id": "9e0fc020",
   "metadata": {},
   "outputs": [
    {
     "name": "stdout",
     "output_type": "stream",
     "text": [
      "ARIMA(0, 1, 0) - AIC:1363.1277116183246\n",
      "ARIMA(0, 1, 1) - AIC:925.7745871432753\n"
     ]
    },
    {
     "name": "stderr",
     "output_type": "stream",
     "text": [
      "C:\\Users\\Nandhini\\Anaconda3\\lib\\site-packages\\statsmodels\\tsa\\statespace\\sarimax.py:978: UserWarning: Non-invertible starting MA parameters found. Using zeros as starting parameters.\n",
      "  warn('Non-invertible starting MA parameters found.'\n"
     ]
    },
    {
     "name": "stdout",
     "output_type": "stream",
     "text": [
      "ARIMA(0, 1, 2) - AIC:592.0793020429696\n",
      "ARIMA(1, 1, 0) - AIC:205.13524488598603\n",
      "ARIMA(1, 1, 1) - AIC:196.13162148770547\n",
      "ARIMA(1, 1, 2) - AIC:181.58563091915525\n",
      "ARIMA(2, 1, 0) - AIC:192.38790672202168\n",
      "ARIMA(2, 1, 1) - AIC:192.48250870743712\n",
      "ARIMA(2, 1, 2) - AIC:183.51724907220236\n"
     ]
    }
   ],
   "source": [
    "# Define the range for p, d, and q\n",
    "p = q = range(0, 3)\n",
    "d = [1]\n",
    "\n",
    "# Generate parameter combinations\n",
    "pdq = list(itertools.product(p, d, q))\n",
    "\n",
    "# Create an empty DataFrame to store AIC values\n",
    "ARIMA_AIC = pd.DataFrame(columns=['param', 'AIC'])\n",
    "\n",
    "# Assuming 'train' is your training data\n",
    "for param in pdq:\n",
    "    ARIMA_model = ARIMA(train['CSUSHPISA'].values, order=param)\n",
    "    ARIMA_fit = ARIMA_model.fit()  # Fit the ARIMA model\n",
    "    print('ARIMA{} - AIC:{}'.format(param, ARIMA_fit.aic))\n",
    "    ARIMA_AIC = ARIMA_AIC.append({'param': param, 'AIC': ARIMA_fit.aic}, ignore_index=True)"
   ]
  },
  {
   "cell_type": "code",
   "execution_count": 70,
   "id": "4e5e95a7",
   "metadata": {},
   "outputs": [
    {
     "data": {
      "text/html": [
       "<div>\n",
       "<style scoped>\n",
       "    .dataframe tbody tr th:only-of-type {\n",
       "        vertical-align: middle;\n",
       "    }\n",
       "\n",
       "    .dataframe tbody tr th {\n",
       "        vertical-align: top;\n",
       "    }\n",
       "\n",
       "    .dataframe thead th {\n",
       "        text-align: right;\n",
       "    }\n",
       "</style>\n",
       "<table border=\"1\" class=\"dataframe\">\n",
       "  <thead>\n",
       "    <tr style=\"text-align: right;\">\n",
       "      <th></th>\n",
       "      <th>param</th>\n",
       "      <th>AIC</th>\n",
       "    </tr>\n",
       "  </thead>\n",
       "  <tbody>\n",
       "    <tr>\n",
       "      <th>5</th>\n",
       "      <td>(1, 1, 2)</td>\n",
       "      <td>181.585631</td>\n",
       "    </tr>\n",
       "    <tr>\n",
       "      <th>8</th>\n",
       "      <td>(2, 1, 2)</td>\n",
       "      <td>183.517249</td>\n",
       "    </tr>\n",
       "    <tr>\n",
       "      <th>6</th>\n",
       "      <td>(2, 1, 0)</td>\n",
       "      <td>192.387907</td>\n",
       "    </tr>\n",
       "    <tr>\n",
       "      <th>7</th>\n",
       "      <td>(2, 1, 1)</td>\n",
       "      <td>192.482509</td>\n",
       "    </tr>\n",
       "    <tr>\n",
       "      <th>4</th>\n",
       "      <td>(1, 1, 1)</td>\n",
       "      <td>196.131621</td>\n",
       "    </tr>\n",
       "    <tr>\n",
       "      <th>3</th>\n",
       "      <td>(1, 1, 0)</td>\n",
       "      <td>205.135245</td>\n",
       "    </tr>\n",
       "    <tr>\n",
       "      <th>2</th>\n",
       "      <td>(0, 1, 2)</td>\n",
       "      <td>592.079302</td>\n",
       "    </tr>\n",
       "    <tr>\n",
       "      <th>1</th>\n",
       "      <td>(0, 1, 1)</td>\n",
       "      <td>925.774587</td>\n",
       "    </tr>\n",
       "    <tr>\n",
       "      <th>0</th>\n",
       "      <td>(0, 1, 0)</td>\n",
       "      <td>1363.127712</td>\n",
       "    </tr>\n",
       "  </tbody>\n",
       "</table>\n",
       "</div>"
      ],
      "text/plain": [
       "       param          AIC\n",
       "5  (1, 1, 2)   181.585631\n",
       "8  (2, 1, 2)   183.517249\n",
       "6  (2, 1, 0)   192.387907\n",
       "7  (2, 1, 1)   192.482509\n",
       "4  (1, 1, 1)   196.131621\n",
       "3  (1, 1, 0)   205.135245\n",
       "2  (0, 1, 2)   592.079302\n",
       "1  (0, 1, 1)   925.774587\n",
       "0  (0, 1, 0)  1363.127712"
      ]
     },
     "execution_count": 70,
     "metadata": {},
     "output_type": "execute_result"
    }
   ],
   "source": [
    "ARIMA_AIC.sort_values(by='AIC',ascending=True)"
   ]
  },
  {
   "cell_type": "code",
   "execution_count": 72,
   "id": "53bf7469",
   "metadata": {},
   "outputs": [
    {
     "name": "stdout",
     "output_type": "stream",
     "text": [
      "                               SARIMAX Results                                \n",
      "==============================================================================\n",
      "Dep. Variable:              CSUSHPISA   No. Observations:                  437\n",
      "Model:                 ARIMA(2, 1, 1)   Log Likelihood                   0.000\n",
      "Date:                Mon, 25 Sep 2023   AIC                              8.000\n",
      "Time:                        23:23:36   BIC                             24.311\n",
      "Sample:                    01-31-1987   HQIC                            14.437\n",
      "                         - 05-31-2023                                         \n",
      "Covariance Type:                  opg                                         \n",
      "==============================================================================\n",
      "                 coef    std err          z      P>|z|      [0.025      0.975]\n",
      "------------------------------------------------------------------------------\n",
      "ar.L1              -0         -0        nan        nan           0          -0\n",
      "ar.L2               0         -0        nan        nan           0           0\n",
      "ma.L1               0         -0        nan        nan           0           0\n",
      "sigma2         1.0000         -0       -inf      0.000       1.000       1.000\n",
      "===================================================================================\n",
      "Ljung-Box (L1) (Q):                    nan   Jarque-Bera (JB):               163.50\n",
      "Prob(Q):                               nan   Prob(JB):                         0.00\n",
      "Heteroskedasticity (H):                nan   Skew:                             0.00\n",
      "Prob(H) (two-sided):                   nan   Kurtosis:                         0.00\n",
      "===================================================================================\n",
      "\n",
      "Warnings:\n",
      "[1] Covariance matrix calculated using the outer product of gradients (complex-step).\n",
      "[2] Covariance matrix is singular or near-singular, with condition number    inf. Standard errors may be unstable.\n"
     ]
    },
    {
     "name": "stderr",
     "output_type": "stream",
     "text": [
      "C:\\Users\\Nandhini\\Anaconda3\\lib\\site-packages\\statsmodels\\tsa\\statespace\\sarimax.py:866: UserWarning: Too few observations to estimate starting parameters for ARMA and trend. All parameters except for variances will be set to zeros.\n",
      "  warn('Too few observations to estimate starting parameters%s.'\n",
      "C:\\Users\\Nandhini\\Anaconda3\\lib\\site-packages\\statsmodels\\tsa\\statespace\\mlemodel.py:2937: RuntimeWarning: divide by zero encountered in divide\n",
      "  return self.params / self.bse\n",
      "C:\\Users\\Nandhini\\Anaconda3\\lib\\site-packages\\statsmodels\\tsa\\statespace\\mlemodel.py:2937: RuntimeWarning: invalid value encountered in divide\n",
      "  return self.params / self.bse\n",
      "C:\\Users\\Nandhini\\Anaconda3\\lib\\site-packages\\statsmodels\\tsa\\statespace\\mlemodel.py:3108: RuntimeWarning: invalid value encountered in double_scalars\n",
      "  test_statistic = np.sum(numer_resid) / np.sum(denom_resid)\n",
      "C:\\Users\\Nandhini\\Anaconda3\\lib\\site-packages\\statsmodels\\tsa\\stattools.py:677: RuntimeWarning: invalid value encountered in divide\n",
      "  acf = avf[: nlags + 1] / avf[0]\n"
     ]
    }
   ],
   "source": [
    "df = df.sort_index()\n",
    "# Create a new datetime index with the correct frequency ('M' for Monthly)\n",
    "new_index = pd.date_range(start=df.index[0], end=df.index[-1], freq='M')\n",
    "\n",
    "# Reindex the DataFrame with the new datetime index\n",
    "df = df.reindex(new_index)\n",
    "\n",
    "# Now, you can proceed with ARIMA modeling as previously shown\n",
    "auto_ARIMA = ARIMA(df['CSUSHPISA'], order=(2, 1, 1))\n",
    "results_auto_ARIMA = auto_ARIMA.fit()\n",
    "print(results_auto_ARIMA.summary())"
   ]
  },
  {
   "cell_type": "code",
   "execution_count": 51,
   "id": "d5de053a",
   "metadata": {},
   "outputs": [],
   "source": [
    "import statsmodels.api as sm\n",
    "from itertools import product\n",
    "\n",
    "# Define p, d, q, P, D, Q, and s for SARIMA\n",
    "p = d = q = range(0, 2)\n",
    "pdq = list(product(p, d, q))\n",
    "seasonal_pdq = [(x[0], x[1], x[2], 6) for x in list(product(p, d, q))]"
   ]
  },
  {
   "cell_type": "code",
   "execution_count": 52,
   "id": "bcd0260d",
   "metadata": {},
   "outputs": [],
   "source": [
    "# Create an empty DataFrame to store AIC values\n",
    "aic_values = pd.DataFrame(columns=['param', 'seasonal_param', 'AIC'])"
   ]
  },
  {
   "cell_type": "code",
   "execution_count": 53,
   "id": "40e4b050",
   "metadata": {},
   "outputs": [
    {
     "name": "stderr",
     "output_type": "stream",
     "text": [
      "C:\\Users\\Nandhini\\Anaconda3\\lib\\site-packages\\statsmodels\\base\\model.py:566: ConvergenceWarning: Maximum Likelihood optimization failed to converge. Check mle_retvals\n",
      "  warnings.warn(\"Maximum Likelihood optimization failed to \"\n",
      "C:\\Users\\Nandhini\\Anaconda3\\lib\\site-packages\\statsmodels\\base\\model.py:566: ConvergenceWarning: Maximum Likelihood optimization failed to converge. Check mle_retvals\n",
      "  warnings.warn(\"Maximum Likelihood optimization failed to \"\n",
      "C:\\Users\\Nandhini\\Anaconda3\\lib\\site-packages\\statsmodels\\base\\model.py:566: ConvergenceWarning: Maximum Likelihood optimization failed to converge. Check mle_retvals\n",
      "  warnings.warn(\"Maximum Likelihood optimization failed to \"\n",
      "C:\\Users\\Nandhini\\Anaconda3\\lib\\site-packages\\statsmodels\\base\\model.py:566: ConvergenceWarning: Maximum Likelihood optimization failed to converge. Check mle_retvals\n",
      "  warnings.warn(\"Maximum Likelihood optimization failed to \"\n",
      "C:\\Users\\Nandhini\\Anaconda3\\lib\\site-packages\\statsmodels\\base\\model.py:566: ConvergenceWarning: Maximum Likelihood optimization failed to converge. Check mle_retvals\n",
      "  warnings.warn(\"Maximum Likelihood optimization failed to \"\n",
      "C:\\Users\\Nandhini\\Anaconda3\\lib\\site-packages\\statsmodels\\base\\model.py:566: ConvergenceWarning: Maximum Likelihood optimization failed to converge. Check mle_retvals\n",
      "  warnings.warn(\"Maximum Likelihood optimization failed to \"\n",
      "C:\\Users\\Nandhini\\Anaconda3\\lib\\site-packages\\statsmodels\\base\\model.py:566: ConvergenceWarning: Maximum Likelihood optimization failed to converge. Check mle_retvals\n",
      "  warnings.warn(\"Maximum Likelihood optimization failed to \"\n",
      "C:\\Users\\Nandhini\\Anaconda3\\lib\\site-packages\\statsmodels\\base\\model.py:566: ConvergenceWarning: Maximum Likelihood optimization failed to converge. Check mle_retvals\n",
      "  warnings.warn(\"Maximum Likelihood optimization failed to \"\n",
      "C:\\Users\\Nandhini\\Anaconda3\\lib\\site-packages\\statsmodels\\base\\model.py:566: ConvergenceWarning: Maximum Likelihood optimization failed to converge. Check mle_retvals\n",
      "  warnings.warn(\"Maximum Likelihood optimization failed to \"\n",
      "C:\\Users\\Nandhini\\Anaconda3\\lib\\site-packages\\statsmodels\\base\\model.py:566: ConvergenceWarning: Maximum Likelihood optimization failed to converge. Check mle_retvals\n",
      "  warnings.warn(\"Maximum Likelihood optimization failed to \"\n"
     ]
    }
   ],
   "source": [
    "# Loop through all possible combinations of parameters\n",
    "for param in pdq:\n",
    "    for param_seasonal in seasonal_pdq:\n",
    "        try:\n",
    "            mod = sm.tsa.statespace.SARIMAX(train['CSUSHPISA'].values,\n",
    "                                            order=param,\n",
    "                                            seasonal_order=param_seasonal,\n",
    "                                            enforce_stationarity=False,\n",
    "                                            enforce_invertibility=False)\n",
    "            results = mod.fit()\n",
    "            aic_values = aic_values.append({'param': param, 'seasonal_param': param_seasonal, 'AIC': results.aic}, ignore_index=True)\n",
    "        except:\n",
    "            continue\n"
   ]
  },
  {
   "cell_type": "code",
   "execution_count": 54,
   "id": "5d0cea3c",
   "metadata": {},
   "outputs": [
    {
     "name": "stdout",
     "output_type": "stream",
     "text": [
      "        param seasonal_param         AIC\n",
      "61  (1, 1, 1)   (1, 0, 1, 6)  192.544105\n",
      "56  (1, 1, 1)   (0, 0, 0, 6)  194.141720\n",
      "60  (1, 1, 1)   (1, 0, 0, 6)  198.590022\n",
      "57  (1, 1, 1)   (0, 0, 1, 6)  199.125237\n",
      "63  (1, 1, 1)   (1, 1, 1, 6)  199.180619\n",
      "59  (1, 1, 1)   (0, 1, 1, 6)  199.538220\n",
      "48  (1, 1, 0)   (0, 0, 0, 6)  202.796847\n",
      "52  (1, 1, 0)   (1, 0, 0, 6)  206.756705\n",
      "49  (1, 1, 0)   (0, 0, 1, 6)  206.935702\n",
      "53  (1, 1, 0)   (1, 0, 1, 6)  208.863756\n"
     ]
    }
   ],
   "source": [
    "# Sort the DataFrame by AIC values in ascending order\n",
    "aic_values = aic_values.sort_values(by='AIC')\n",
    "\n",
    "# Display the top N models with the lowest AIC values (e.g., top 10)\n",
    "top_models = aic_values.head(10)\n",
    "print(top_models)"
   ]
  },
  {
   "cell_type": "code",
   "execution_count": 55,
   "id": "d0bf87b7",
   "metadata": {},
   "outputs": [
    {
     "name": "stdout",
     "output_type": "stream",
     "text": [
      "                                     SARIMAX Results                                     \n",
      "=========================================================================================\n",
      "Dep. Variable:                                 y   No. Observations:                  426\n",
      "Model:             SARIMAX(0, 1, 2)x(2, 0, 2, 6)   Log Likelihood                -147.224\n",
      "Date:                           Mon, 25 Sep 2023   AIC                            308.449\n",
      "Time:                                   23:06:39   BIC                            336.562\n",
      "Sample:                                        0   HQIC                           319.571\n",
      "                                           - 426                                         \n",
      "Covariance Type:                             opg                                         \n",
      "==============================================================================\n",
      "                 coef    std err          z      P>|z|      [0.025      0.975]\n",
      "------------------------------------------------------------------------------\n",
      "ma.L1          0.9219      0.021     44.152      0.000       0.881       0.963\n",
      "ma.L2          0.8639      0.020     42.338      0.000       0.824       0.904\n",
      "ar.S.L6        0.3271      0.231      1.416      0.157      -0.126       0.780\n",
      "ar.S.L12       0.5107      0.218      2.344      0.019       0.084       0.938\n",
      "ma.S.L6        0.3877      0.238      1.627      0.104      -0.079       0.855\n",
      "ma.S.L12       0.0133      0.079      0.169      0.866      -0.141       0.168\n",
      "sigma2         0.1195      0.005     26.266      0.000       0.111       0.128\n",
      "===================================================================================\n",
      "Ljung-Box (L1) (Q):                  26.55   Jarque-Bera (JB):               941.70\n",
      "Prob(Q):                              0.00   Prob(JB):                         0.00\n",
      "Heteroskedasticity (H):              29.32   Skew:                             0.06\n",
      "Prob(H) (two-sided):                  0.00   Kurtosis:                        10.42\n",
      "===================================================================================\n",
      "\n",
      "Warnings:\n",
      "[1] Covariance matrix calculated using the outer product of gradients (complex-step).\n"
     ]
    }
   ],
   "source": [
    "auto_SARIMA_6 = sm.tsa.statespace.SARIMAX(train['CSUSHPISA'].values,\n",
    "                                order=(0, 1, 2),\n",
    "                                seasonal_order=(2, 0, 2, 6),\n",
    "                                enforce_stationarity=False,\n",
    "                                enforce_invertibility=False)\n",
    "results_auto_SARIMA_6 = auto_SARIMA_6.fit(maxiter=1000)\n",
    "print(results_auto_SARIMA_6.summary())"
   ]
  },
  {
   "cell_type": "code",
   "execution_count": 57,
   "id": "6f2b4b5c",
   "metadata": {},
   "outputs": [],
   "source": [
    "predicted_auto_SARIMA_6 = results_auto_SARIMA_6.get_forecast(steps=len(test))"
   ]
  },
  {
   "cell_type": "code",
   "execution_count": 58,
   "id": "5194f922",
   "metadata": {},
   "outputs": [
    {
     "data": {
      "text/html": [
       "<div>\n",
       "<style scoped>\n",
       "    .dataframe tbody tr th:only-of-type {\n",
       "        vertical-align: middle;\n",
       "    }\n",
       "\n",
       "    .dataframe tbody tr th {\n",
       "        vertical-align: top;\n",
       "    }\n",
       "\n",
       "    .dataframe thead th {\n",
       "        text-align: right;\n",
       "    }\n",
       "</style>\n",
       "<table border=\"1\" class=\"dataframe\">\n",
       "  <thead>\n",
       "    <tr style=\"text-align: right;\">\n",
       "      <th>y</th>\n",
       "      <th>mean</th>\n",
       "      <th>mean_se</th>\n",
       "      <th>mean_ci_lower</th>\n",
       "      <th>mean_ci_upper</th>\n",
       "    </tr>\n",
       "  </thead>\n",
       "  <tbody>\n",
       "    <tr>\n",
       "      <th>0</th>\n",
       "      <td>306.660757</td>\n",
       "      <td>0.345668</td>\n",
       "      <td>305.983260</td>\n",
       "      <td>307.338254</td>\n",
       "    </tr>\n",
       "    <tr>\n",
       "      <th>1</th>\n",
       "      <td>309.326131</td>\n",
       "      <td>0.748889</td>\n",
       "      <td>307.858335</td>\n",
       "      <td>310.793927</td>\n",
       "    </tr>\n",
       "    <tr>\n",
       "      <th>2</th>\n",
       "      <td>313.897777</td>\n",
       "      <td>1.219891</td>\n",
       "      <td>311.506835</td>\n",
       "      <td>316.288720</td>\n",
       "    </tr>\n",
       "    <tr>\n",
       "      <th>3</th>\n",
       "      <td>317.602236</td>\n",
       "      <td>1.554166</td>\n",
       "      <td>314.556126</td>\n",
       "      <td>320.648345</td>\n",
       "    </tr>\n",
       "    <tr>\n",
       "      <th>4</th>\n",
       "      <td>320.438331</td>\n",
       "      <td>1.828314</td>\n",
       "      <td>316.854902</td>\n",
       "      <td>324.021760</td>\n",
       "    </tr>\n",
       "  </tbody>\n",
       "</table>\n",
       "</div>"
      ],
      "text/plain": [
       "y        mean   mean_se  mean_ci_lower  mean_ci_upper\n",
       "0  306.660757  0.345668     305.983260     307.338254\n",
       "1  309.326131  0.748889     307.858335     310.793927\n",
       "2  313.897777  1.219891     311.506835     316.288720\n",
       "3  317.602236  1.554166     314.556126     320.648345\n",
       "4  320.438331  1.828314     316.854902     324.021760"
      ]
     },
     "execution_count": 58,
     "metadata": {},
     "output_type": "execute_result"
    }
   ],
   "source": [
    "predicted_auto_SARIMA_6.summary_frame(alpha=0.05).head()"
   ]
  },
  {
   "cell_type": "code",
   "execution_count": 59,
   "id": "9b2ed72d",
   "metadata": {},
   "outputs": [
    {
     "name": "stdout",
     "output_type": "stream",
     "text": [
      "25.50903231347098\n"
     ]
    }
   ],
   "source": [
    "rmse = mean_squared_error(test['CSUSHPISA'],predicted_auto_SARIMA_6.predicted_mean,squared=False)\n",
    "print(rmse)"
   ]
  },
  {
   "cell_type": "code",
   "execution_count": 74,
   "id": "79ebf7d2",
   "metadata": {},
   "outputs": [
    {
     "data": {
      "text/html": [
       "<div>\n",
       "<style scoped>\n",
       "    .dataframe tbody tr th:only-of-type {\n",
       "        vertical-align: middle;\n",
       "    }\n",
       "\n",
       "    .dataframe tbody tr th {\n",
       "        vertical-align: top;\n",
       "    }\n",
       "\n",
       "    .dataframe thead th {\n",
       "        text-align: right;\n",
       "    }\n",
       "</style>\n",
       "<table border=\"1\" class=\"dataframe\">\n",
       "  <thead>\n",
       "    <tr style=\"text-align: right;\">\n",
       "      <th></th>\n",
       "      <th>RMSE</th>\n",
       "    </tr>\n",
       "  </thead>\n",
       "  <tbody>\n",
       "    <tr>\n",
       "      <th>ARIMA(2,1,1)</th>\n",
       "      <td>25.509032</td>\n",
       "    </tr>\n",
       "  </tbody>\n",
       "</table>\n",
       "</div>"
      ],
      "text/plain": [
       "                   RMSE\n",
       "ARIMA(2,1,1)  25.509032"
      ]
     },
     "execution_count": 74,
     "metadata": {},
     "output_type": "execute_result"
    }
   ],
   "source": [
    "resultsDf=pd.DataFrame({'RMSE': [rmse]},index=['ARIMA(2,1,1)'])\n",
    "resultsDf"
   ]
  },
  {
   "cell_type": "code",
   "execution_count": 75,
   "id": "2041fdb2",
   "metadata": {},
   "outputs": [
    {
     "data": {
      "text/html": [
       "<div>\n",
       "<style scoped>\n",
       "    .dataframe tbody tr th:only-of-type {\n",
       "        vertical-align: middle;\n",
       "    }\n",
       "\n",
       "    .dataframe tbody tr th {\n",
       "        vertical-align: top;\n",
       "    }\n",
       "\n",
       "    .dataframe thead th {\n",
       "        text-align: right;\n",
       "    }\n",
       "</style>\n",
       "<table border=\"1\" class=\"dataframe\">\n",
       "  <thead>\n",
       "    <tr style=\"text-align: right;\">\n",
       "      <th></th>\n",
       "      <th>RMSE</th>\n",
       "    </tr>\n",
       "  </thead>\n",
       "  <tbody>\n",
       "    <tr>\n",
       "      <th>ARIMA(2,1,1)</th>\n",
       "      <td>25.509032</td>\n",
       "    </tr>\n",
       "    <tr>\n",
       "      <th>SARIMA(0,1,2)(2,0,2,6)</th>\n",
       "      <td>25.509032</td>\n",
       "    </tr>\n",
       "  </tbody>\n",
       "</table>\n",
       "</div>"
      ],
      "text/plain": [
       "                             RMSE\n",
       "ARIMA(2,1,1)            25.509032\n",
       "SARIMA(0,1,2)(2,0,2,6)  25.509032"
      ]
     },
     "execution_count": 75,
     "metadata": {},
     "output_type": "execute_result"
    }
   ],
   "source": [
    "temp_resultsDf = pd.DataFrame({'RMSE': [rmse]}\n",
    "                           ,index=['SARIMA(0,1,2)(2,0,2,6)'])\n",
    "resultsDf = pd.concat([resultsDf,temp_resultsDf])\n",
    "resultsDf"
   ]
  },
  {
   "cell_type": "code",
   "execution_count": 76,
   "id": "8b99a5a8",
   "metadata": {},
   "outputs": [
    {
     "name": "stdout",
     "output_type": "stream",
     "text": [
      "Examples of some parameter combinations for Model...\n",
      "Model: (0, 1, 1)(0, 0, 1, 12)\n",
      "Model: (0, 1, 2)(0, 0, 2, 12)\n",
      "Model: (1, 1, 0)(1, 0, 0, 12)\n",
      "Model: (1, 1, 1)(1, 0, 1, 12)\n",
      "Model: (1, 1, 2)(1, 0, 2, 12)\n",
      "Model: (2, 1, 0)(2, 0, 0, 12)\n",
      "Model: (2, 1, 1)(2, 0, 1, 12)\n",
      "Model: (2, 1, 2)(2, 0, 2, 12)\n"
     ]
    }
   ],
   "source": [
    "p = q = range(0, 3)\n",
    "d= range(1,2)\n",
    "D = range(0,1)\n",
    "pdq = list(itertools.product(p, d, q))\n",
    "model_pdq = [(x[0], x[1], x[2], 12) for x in list(itertools.product(p, D, q))]\n",
    "print('Examples of some parameter combinations for Model...')\n",
    "for i in range(1,len(pdq)):\n",
    "    print('Model: {}{}'.format(pdq[i], model_pdq[i]))"
   ]
  },
  {
   "cell_type": "code",
   "execution_count": 77,
   "id": "4715ed15",
   "metadata": {},
   "outputs": [
    {
     "data": {
      "text/html": [
       "<div>\n",
       "<style scoped>\n",
       "    .dataframe tbody tr th:only-of-type {\n",
       "        vertical-align: middle;\n",
       "    }\n",
       "\n",
       "    .dataframe tbody tr th {\n",
       "        vertical-align: top;\n",
       "    }\n",
       "\n",
       "    .dataframe thead th {\n",
       "        text-align: right;\n",
       "    }\n",
       "</style>\n",
       "<table border=\"1\" class=\"dataframe\">\n",
       "  <thead>\n",
       "    <tr style=\"text-align: right;\">\n",
       "      <th></th>\n",
       "      <th>param</th>\n",
       "      <th>seasonal</th>\n",
       "      <th>AIC</th>\n",
       "    </tr>\n",
       "  </thead>\n",
       "  <tbody>\n",
       "  </tbody>\n",
       "</table>\n",
       "</div>"
      ],
      "text/plain": [
       "Empty DataFrame\n",
       "Columns: [param, seasonal, AIC]\n",
       "Index: []"
      ]
     },
     "execution_count": 77,
     "metadata": {},
     "output_type": "execute_result"
    }
   ],
   "source": [
    "SARIMA_AIC = pd.DataFrame(columns=['param','seasonal', 'AIC'])\n",
    "SARIMA_AIC"
   ]
  },
  {
   "cell_type": "code",
   "execution_count": 78,
   "id": "685ac1e2",
   "metadata": {},
   "outputs": [
    {
     "name": "stdout",
     "output_type": "stream",
     "text": [
      "SARIMA(0, 1, 0)x(0, 0, 0, 12) - AIC:1360.7779131075586\n",
      "SARIMA(0, 1, 0)x(0, 0, 1, 12) - AIC:1109.5246275498378\n",
      "SARIMA(0, 1, 0)x(0, 0, 2, 12) - AIC:1029.9300949697858\n",
      "SARIMA(0, 1, 0)x(1, 0, 0, 12) - AIC:1022.7968076618637\n",
      "SARIMA(0, 1, 0)x(1, 0, 1, 12) - AIC:1014.0478794015494\n",
      "SARIMA(0, 1, 0)x(1, 0, 2, 12) - AIC:997.910272902229\n",
      "SARIMA(0, 1, 0)x(2, 0, 0, 12) - AIC:998.5985348002353\n",
      "SARIMA(0, 1, 0)x(2, 0, 1, 12) - AIC:999.6821091068075\n",
      "SARIMA(0, 1, 0)x(2, 0, 2, 12) - AIC:999.3614764520249\n",
      "SARIMA(0, 1, 1)x(0, 0, 0, 12) - AIC:922.5281451507662\n",
      "SARIMA(0, 1, 1)x(0, 0, 1, 12) - AIC:731.3313120895006\n",
      "SARIMA(0, 1, 1)x(0, 0, 2, 12) - AIC:679.6742722927077\n",
      "SARIMA(0, 1, 1)x(1, 0, 0, 12) - AIC:664.7162165417889\n",
      "SARIMA(0, 1, 1)x(1, 0, 1, 12) - AIC:663.4618803563286\n",
      "SARIMA(0, 1, 1)x(1, 0, 2, 12) - AIC:656.5069295533631\n",
      "SARIMA(0, 1, 1)x(2, 0, 0, 12) - AIC:657.4944782225593\n",
      "SARIMA(0, 1, 1)x(2, 0, 1, 12) - AIC:658.7467060598306\n",
      "SARIMA(0, 1, 1)x(2, 0, 2, 12) - AIC:658.4016295158949\n",
      "SARIMA(0, 1, 2)x(0, 0, 0, 12) - AIC:589.1404804072081\n",
      "SARIMA(0, 1, 2)x(0, 0, 1, 12) - AIC:474.79044420322316\n",
      "SARIMA(0, 1, 2)x(0, 0, 2, 12) - AIC:450.91635986065194\n",
      "SARIMA(0, 1, 2)x(1, 0, 0, 12) - AIC:432.4217594987988\n",
      "SARIMA(0, 1, 2)x(1, 0, 1, 12) - AIC:432.88561240890044\n",
      "SARIMA(0, 1, 2)x(1, 0, 2, 12) - AIC:432.0841737137456\n",
      "SARIMA(0, 1, 2)x(2, 0, 0, 12) - AIC:432.047799921473\n",
      "SARIMA(0, 1, 2)x(2, 0, 1, 12) - AIC:433.9095273858931\n",
      "SARIMA(0, 1, 2)x(2, 0, 2, 12) - AIC:434.01551644480406\n",
      "SARIMA(1, 1, 0)x(0, 0, 0, 12) - AIC:202.79684680789515\n"
     ]
    },
    {
     "name": "stderr",
     "output_type": "stream",
     "text": [
      "C:\\Users\\Nandhini\\Anaconda3\\lib\\site-packages\\statsmodels\\base\\model.py:566: ConvergenceWarning: Maximum Likelihood optimization failed to converge. Check mle_retvals\n",
      "  warnings.warn(\"Maximum Likelihood optimization failed to \"\n"
     ]
    },
    {
     "name": "stdout",
     "output_type": "stream",
     "text": [
      "SARIMA(1, 1, 0)x(0, 0, 1, 12) - AIC:204.64367410235906\n",
      "SARIMA(1, 1, 0)x(0, 0, 2, 12) - AIC:209.78004395148338\n",
      "SARIMA(1, 1, 0)x(1, 0, 0, 12) - AIC:203.44110194401955\n",
      "SARIMA(1, 1, 0)x(1, 0, 1, 12) - AIC:204.51294486067928\n",
      "SARIMA(1, 1, 0)x(1, 0, 2, 12) - AIC:210.9873696429529\n",
      "SARIMA(1, 1, 0)x(2, 0, 0, 12) - AIC:208.66707428193567\n",
      "SARIMA(1, 1, 0)x(2, 0, 1, 12) - AIC:210.60337685994887\n",
      "SARIMA(1, 1, 0)x(2, 0, 2, 12) - AIC:212.55969721001296\n",
      "SARIMA(1, 1, 1)x(0, 0, 0, 12) - AIC:194.1417201067173\n",
      "SARIMA(1, 1, 1)x(0, 0, 1, 12) - AIC:190.95901016731187\n",
      "SARIMA(1, 1, 1)x(0, 0, 2, 12) - AIC:197.40129154766362\n",
      "SARIMA(1, 1, 1)x(1, 0, 0, 12) - AIC:187.5533410605426\n",
      "SARIMA(1, 1, 1)x(1, 0, 1, 12) - AIC:187.09046951146712\n",
      "SARIMA(1, 1, 1)x(1, 0, 2, 12) - AIC:194.74700821537323\n",
      "SARIMA(1, 1, 1)x(2, 0, 0, 12) - AIC:192.0377782622432\n",
      "SARIMA(1, 1, 1)x(2, 0, 1, 12) - AIC:193.54905050585592\n",
      "SARIMA(1, 1, 1)x(2, 0, 2, 12) - AIC:195.3768529958822\n",
      "SARIMA(1, 1, 2)x(0, 0, 0, 12) - AIC:179.97268148040814\n",
      "SARIMA(1, 1, 2)x(0, 0, 1, 12) - AIC:172.40232199782312\n",
      "SARIMA(1, 1, 2)x(0, 0, 2, 12) - AIC:173.65096068292607\n",
      "SARIMA(1, 1, 2)x(1, 0, 0, 12) - AIC:165.32508519001266\n",
      "SARIMA(1, 1, 2)x(1, 0, 1, 12) - AIC:161.75535367768936\n",
      "SARIMA(1, 1, 2)x(1, 0, 2, 12) - AIC:169.68531406443876\n",
      "SARIMA(1, 1, 2)x(2, 0, 0, 12) - AIC:166.4425102748752\n",
      "SARIMA(1, 1, 2)x(2, 0, 1, 12) - AIC:167.77150457138166\n",
      "SARIMA(1, 1, 2)x(2, 0, 2, 12) - AIC:170.38096658718814\n",
      "SARIMA(2, 1, 0)x(0, 0, 0, 12) - AIC:190.39235828266175\n"
     ]
    },
    {
     "name": "stderr",
     "output_type": "stream",
     "text": [
      "C:\\Users\\Nandhini\\Anaconda3\\lib\\site-packages\\statsmodels\\base\\model.py:566: ConvergenceWarning: Maximum Likelihood optimization failed to converge. Check mle_retvals\n",
      "  warnings.warn(\"Maximum Likelihood optimization failed to \"\n"
     ]
    },
    {
     "name": "stdout",
     "output_type": "stream",
     "text": [
      "SARIMA(2, 1, 0)x(0, 0, 1, 12) - AIC:183.71019758011053\n",
      "SARIMA(2, 1, 0)x(0, 0, 2, 12) - AIC:191.27183265325658\n",
      "SARIMA(2, 1, 0)x(1, 0, 0, 12) - AIC:179.94824712630353\n",
      "SARIMA(2, 1, 0)x(1, 0, 1, 12) - AIC:177.5332961649006\n",
      "SARIMA(2, 1, 0)x(1, 0, 2, 12) - AIC:184.93349000157588\n",
      "SARIMA(2, 1, 0)x(2, 0, 0, 12) - AIC:183.62815172210895\n",
      "SARIMA(2, 1, 0)x(2, 0, 1, 12) - AIC:184.80814481210683\n",
      "SARIMA(2, 1, 0)x(2, 0, 2, 12) - AIC:187.50939336019349\n",
      "SARIMA(2, 1, 1)x(0, 0, 0, 12) - AIC:190.58818087865126\n",
      "SARIMA(2, 1, 1)x(0, 0, 1, 12) - AIC:184.2015269531913\n",
      "SARIMA(2, 1, 1)x(0, 0, 2, 12) - AIC:187.75344777004932\n",
      "SARIMA(2, 1, 1)x(1, 0, 0, 12) - AIC:179.77693677951189\n",
      "SARIMA(2, 1, 1)x(1, 0, 1, 12) - AIC:177.41783323815682\n",
      "SARIMA(2, 1, 1)x(1, 0, 2, 12) - AIC:185.35005594650866\n",
      "SARIMA(2, 1, 1)x(2, 0, 0, 12) - AIC:183.35635610955484\n",
      "SARIMA(2, 1, 1)x(2, 0, 1, 12) - AIC:184.6473472176642\n",
      "SARIMA(2, 1, 1)x(2, 0, 2, 12) - AIC:185.85054564446133\n",
      "SARIMA(2, 1, 2)x(0, 0, 0, 12) - AIC:181.91705457630388\n",
      "SARIMA(2, 1, 2)x(0, 0, 1, 12) - AIC:174.56770813095414\n",
      "SARIMA(2, 1, 2)x(0, 0, 2, 12) - AIC:175.649570592742\n",
      "SARIMA(2, 1, 2)x(1, 0, 0, 12) - AIC:167.89302179308945\n",
      "SARIMA(2, 1, 2)x(1, 0, 1, 12) - AIC:163.74470650798438\n",
      "SARIMA(2, 1, 2)x(1, 0, 2, 12) - AIC:171.68274254091557\n",
      "SARIMA(2, 1, 2)x(2, 0, 0, 12) - AIC:168.86895742381165\n",
      "SARIMA(2, 1, 2)x(2, 0, 1, 12) - AIC:170.16531034881612\n",
      "SARIMA(2, 1, 2)x(2, 0, 2, 12) - AIC:172.37833131193585\n"
     ]
    }
   ],
   "source": [
    "for param in pdq:\n",
    "    for param_seasonal in model_pdq:\n",
    "        SARIMA_model = sm.tsa.statespace.SARIMAX(train['CSUSHPISA'].values,\n",
    "                                            order=param,\n",
    "                                            seasonal_order=param_seasonal,\n",
    "                                            enforce_stationarity=False,\n",
    "                                            enforce_invertibility=False)\n",
    "            \n",
    "        results_SARIMA = SARIMA_model.fit(maxiter=1000)\n",
    "        print('SARIMA{}x{} - AIC:{}'.format(param, param_seasonal, results_SARIMA.aic))\n",
    "        SARIMA_AIC = SARIMA_AIC.append({'param':param,'seasonal':param_seasonal ,'AIC': results_SARIMA.aic}, ignore_index=True)"
   ]
  },
  {
   "cell_type": "code",
   "execution_count": 79,
   "id": "8cd8ce90",
   "metadata": {},
   "outputs": [
    {
     "data": {
      "text/html": [
       "<div>\n",
       "<style scoped>\n",
       "    .dataframe tbody tr th:only-of-type {\n",
       "        vertical-align: middle;\n",
       "    }\n",
       "\n",
       "    .dataframe tbody tr th {\n",
       "        vertical-align: top;\n",
       "    }\n",
       "\n",
       "    .dataframe thead th {\n",
       "        text-align: right;\n",
       "    }\n",
       "</style>\n",
       "<table border=\"1\" class=\"dataframe\">\n",
       "  <thead>\n",
       "    <tr style=\"text-align: right;\">\n",
       "      <th></th>\n",
       "      <th>param</th>\n",
       "      <th>seasonal</th>\n",
       "      <th>AIC</th>\n",
       "    </tr>\n",
       "  </thead>\n",
       "  <tbody>\n",
       "    <tr>\n",
       "      <th>49</th>\n",
       "      <td>(1, 1, 2)</td>\n",
       "      <td>(1, 0, 1, 12)</td>\n",
       "      <td>161.755354</td>\n",
       "    </tr>\n",
       "    <tr>\n",
       "      <th>76</th>\n",
       "      <td>(2, 1, 2)</td>\n",
       "      <td>(1, 0, 1, 12)</td>\n",
       "      <td>163.744707</td>\n",
       "    </tr>\n",
       "    <tr>\n",
       "      <th>48</th>\n",
       "      <td>(1, 1, 2)</td>\n",
       "      <td>(1, 0, 0, 12)</td>\n",
       "      <td>165.325085</td>\n",
       "    </tr>\n",
       "    <tr>\n",
       "      <th>51</th>\n",
       "      <td>(1, 1, 2)</td>\n",
       "      <td>(2, 0, 0, 12)</td>\n",
       "      <td>166.442510</td>\n",
       "    </tr>\n",
       "    <tr>\n",
       "      <th>52</th>\n",
       "      <td>(1, 1, 2)</td>\n",
       "      <td>(2, 0, 1, 12)</td>\n",
       "      <td>167.771505</td>\n",
       "    </tr>\n",
       "  </tbody>\n",
       "</table>\n",
       "</div>"
      ],
      "text/plain": [
       "        param       seasonal         AIC\n",
       "49  (1, 1, 2)  (1, 0, 1, 12)  161.755354\n",
       "76  (2, 1, 2)  (1, 0, 1, 12)  163.744707\n",
       "48  (1, 1, 2)  (1, 0, 0, 12)  165.325085\n",
       "51  (1, 1, 2)  (2, 0, 0, 12)  166.442510\n",
       "52  (1, 1, 2)  (2, 0, 1, 12)  167.771505"
      ]
     },
     "execution_count": 79,
     "metadata": {},
     "output_type": "execute_result"
    }
   ],
   "source": [
    "SARIMA_AIC.sort_values(by=['AIC']).head()"
   ]
  },
  {
   "cell_type": "code",
   "execution_count": 80,
   "id": "387aa8c5",
   "metadata": {},
   "outputs": [
    {
     "name": "stdout",
     "output_type": "stream",
     "text": [
      "                                     SARIMAX Results                                      \n",
      "==========================================================================================\n",
      "Dep. Variable:                                  y   No. Observations:                  426\n",
      "Model:             SARIMAX(1, 1, 2)x(2, 0, 2, 12)   Log Likelihood                 -77.190\n",
      "Date:                            Mon, 25 Sep 2023   AIC                            170.381\n",
      "Time:                                    23:29:42   BIC                            202.273\n",
      "Sample:                                         0   HQIC                           183.013\n",
      "                                            - 426                                         \n",
      "Covariance Type:                              opg                                         \n",
      "==============================================================================\n",
      "                 coef    std err          z      P>|z|      [0.025      0.975]\n",
      "------------------------------------------------------------------------------\n",
      "ar.L1          0.8993      0.016     54.716      0.000       0.867       0.932\n",
      "ma.L1          0.3371      0.036      9.338      0.000       0.266       0.408\n",
      "ma.L2          0.3039      0.023     13.178      0.000       0.259       0.349\n",
      "ar.S.L12       0.3242      0.792      0.409      0.682      -1.228       1.877\n",
      "ar.S.L24       0.2326      0.644      0.361      0.718      -1.031       1.496\n",
      "ma.S.L12      -0.1064      0.800     -0.133      0.894      -1.675       1.462\n",
      "ma.S.L24      -0.0995      0.487     -0.204      0.838      -1.055       0.856\n",
      "sigma2         0.0862      0.003     31.332      0.000       0.081       0.092\n",
      "===================================================================================\n",
      "Ljung-Box (L1) (Q):                   0.01   Jarque-Bera (JB):              2915.62\n",
      "Prob(Q):                              0.91   Prob(JB):                         0.00\n",
      "Heteroskedasticity (H):              23.97   Skew:                             0.32\n",
      "Prob(H) (two-sided):                  0.00   Kurtosis:                        16.24\n",
      "===================================================================================\n",
      "\n",
      "Warnings:\n",
      "[1] Covariance matrix calculated using the outer product of gradients (complex-step).\n"
     ]
    }
   ],
   "source": [
    "auto_SARIMA_12 = sm.tsa.statespace.SARIMAX(train['CSUSHPISA'].values,\n",
    "                                order=(1, 1, 2),\n",
    "                                seasonal_order=(2, 0, 2, 12),\n",
    "                                enforce_stationarity=False,\n",
    "                                enforce_invertibility=False)\n",
    "results_auto_SARIMA_12 = auto_SARIMA_12.fit(maxiter=1000)\n",
    "print(results_auto_SARIMA_12.summary())"
   ]
  },
  {
   "cell_type": "markdown",
   "id": "00739470",
   "metadata": {},
   "source": [
    "SARIMAX model appears to have a good fit to the data based on the log-likelihood and AIC values."
   ]
  },
  {
   "cell_type": "code",
   "execution_count": 81,
   "id": "4990c7c5",
   "metadata": {},
   "outputs": [],
   "source": [
    "predicted_auto_SARIMA_12 = results_auto_SARIMA_12.get_forecast(steps=len(test))"
   ]
  },
  {
   "cell_type": "code",
   "execution_count": 82,
   "id": "b0299bcb",
   "metadata": {},
   "outputs": [
    {
     "data": {
      "text/html": [
       "<div>\n",
       "<style scoped>\n",
       "    .dataframe tbody tr th:only-of-type {\n",
       "        vertical-align: middle;\n",
       "    }\n",
       "\n",
       "    .dataframe tbody tr th {\n",
       "        vertical-align: top;\n",
       "    }\n",
       "\n",
       "    .dataframe thead th {\n",
       "        text-align: right;\n",
       "    }\n",
       "</style>\n",
       "<table border=\"1\" class=\"dataframe\">\n",
       "  <thead>\n",
       "    <tr style=\"text-align: right;\">\n",
       "      <th>y</th>\n",
       "      <th>mean</th>\n",
       "      <th>mean_se</th>\n",
       "      <th>mean_ci_lower</th>\n",
       "      <th>mean_ci_upper</th>\n",
       "    </tr>\n",
       "  </thead>\n",
       "  <tbody>\n",
       "    <tr>\n",
       "      <th>0</th>\n",
       "      <td>305.073384</td>\n",
       "      <td>0.293583</td>\n",
       "      <td>304.497972</td>\n",
       "      <td>305.648796</td>\n",
       "    </tr>\n",
       "    <tr>\n",
       "      <th>1</th>\n",
       "      <td>304.991437</td>\n",
       "      <td>0.719241</td>\n",
       "      <td>303.581751</td>\n",
       "      <td>306.401123</td>\n",
       "    </tr>\n",
       "    <tr>\n",
       "      <th>2</th>\n",
       "      <td>305.006565</td>\n",
       "      <td>1.291174</td>\n",
       "      <td>302.475911</td>\n",
       "      <td>307.537219</td>\n",
       "    </tr>\n",
       "    <tr>\n",
       "      <th>3</th>\n",
       "      <td>305.215523</td>\n",
       "      <td>1.938686</td>\n",
       "      <td>301.415768</td>\n",
       "      <td>309.015278</td>\n",
       "    </tr>\n",
       "    <tr>\n",
       "      <th>4</th>\n",
       "      <td>305.440422</td>\n",
       "      <td>2.633518</td>\n",
       "      <td>300.278823</td>\n",
       "      <td>310.602022</td>\n",
       "    </tr>\n",
       "  </tbody>\n",
       "</table>\n",
       "</div>"
      ],
      "text/plain": [
       "y        mean   mean_se  mean_ci_lower  mean_ci_upper\n",
       "0  305.073384  0.293583     304.497972     305.648796\n",
       "1  304.991437  0.719241     303.581751     306.401123\n",
       "2  305.006565  1.291174     302.475911     307.537219\n",
       "3  305.215523  1.938686     301.415768     309.015278\n",
       "4  305.440422  2.633518     300.278823     310.602022"
      ]
     },
     "execution_count": 82,
     "metadata": {},
     "output_type": "execute_result"
    }
   ],
   "source": [
    "predicted_auto_SARIMA_12.summary_frame(alpha=0.05).head()"
   ]
  },
  {
   "cell_type": "code",
   "execution_count": 83,
   "id": "6af281d4",
   "metadata": {},
   "outputs": [
    {
     "name": "stdout",
     "output_type": "stream",
     "text": [
      "7.565645690108106\n"
     ]
    }
   ],
   "source": [
    "rmse = mean_squared_error(test['CSUSHPISA'],predicted_auto_SARIMA_12.predicted_mean,squared=False)\n",
    "print(rmse)"
   ]
  },
  {
   "cell_type": "code",
   "execution_count": 84,
   "id": "656b0345",
   "metadata": {},
   "outputs": [
    {
     "data": {
      "text/html": [
       "<div>\n",
       "<style scoped>\n",
       "    .dataframe tbody tr th:only-of-type {\n",
       "        vertical-align: middle;\n",
       "    }\n",
       "\n",
       "    .dataframe tbody tr th {\n",
       "        vertical-align: top;\n",
       "    }\n",
       "\n",
       "    .dataframe thead th {\n",
       "        text-align: right;\n",
       "    }\n",
       "</style>\n",
       "<table border=\"1\" class=\"dataframe\">\n",
       "  <thead>\n",
       "    <tr style=\"text-align: right;\">\n",
       "      <th></th>\n",
       "      <th>RMSE</th>\n",
       "    </tr>\n",
       "  </thead>\n",
       "  <tbody>\n",
       "    <tr>\n",
       "      <th>ARIMA(2,1,1)</th>\n",
       "      <td>25.509032</td>\n",
       "    </tr>\n",
       "    <tr>\n",
       "      <th>SARIMA(0,1,2)(2,0,2,6)</th>\n",
       "      <td>25.509032</td>\n",
       "    </tr>\n",
       "    <tr>\n",
       "      <th>SARIMA(1,1,2)(2,0,2,12)</th>\n",
       "      <td>7.565646</td>\n",
       "    </tr>\n",
       "  </tbody>\n",
       "</table>\n",
       "</div>"
      ],
      "text/plain": [
       "                              RMSE\n",
       "ARIMA(2,1,1)             25.509032\n",
       "SARIMA(0,1,2)(2,0,2,6)   25.509032\n",
       "SARIMA(1,1,2)(2,0,2,12)   7.565646"
      ]
     },
     "execution_count": 84,
     "metadata": {},
     "output_type": "execute_result"
    }
   ],
   "source": [
    "temp_resultsDf = pd.DataFrame({'RMSE': [rmse]},index=['SARIMA(1,1,2)(2,0,2,12)'])\n",
    "resultsDf = pd.concat([resultsDf,temp_resultsDf])\n",
    "resultsDf"
   ]
  },
  {
   "cell_type": "code",
   "execution_count": 92,
   "id": "c8607ea5",
   "metadata": {},
   "outputs": [
    {
     "name": "stdout",
     "output_type": "stream",
     "text": [
      "                                     SARIMAX Results                                     \n",
      "=========================================================================================\n",
      "Dep. Variable:                         CSUSHPISA   No. Observations:                   12\n",
      "Model:             SARIMAX(1, 0, 2)x(2, 0, 2, 7)   Log Likelihood                   0.000\n",
      "Date:                           Mon, 25 Sep 2023   AIC                             16.000\n",
      "Time:                                   23:49:04   BIC                                nan\n",
      "Sample:                               07-01-2022   HQIC                               nan\n",
      "                                    - 06-01-2023                                         \n",
      "Covariance Type:                             opg                                         \n",
      "==============================================================================\n",
      "                 coef    std err          z      P>|z|      [0.025      0.975]\n",
      "------------------------------------------------------------------------------\n",
      "ar.L1          1.0026         -0       -inf      0.000       1.003       1.003\n",
      "ma.L1          1.4672         -0       -inf      0.000       1.467       1.467\n",
      "ma.L2          1.4154         -0       -inf      0.000       1.415       1.415\n",
      "ar.S.L7             0         -0        nan        nan           0           0\n",
      "ar.S.L14            0         -0        nan        nan           0           0\n",
      "ma.S.L7             0         -0        nan        nan           0           0\n",
      "ma.S.L14            0         -0        nan        nan           0           0\n",
      "sigma2         0.0170         -0       -inf      0.000       0.017       0.017\n",
      "===================================================================================\n",
      "Ljung-Box (L1) (Q):                    nan   Jarque-Bera (JB):                  nan\n",
      "Prob(Q):                               nan   Prob(JB):                          nan\n",
      "Heteroskedasticity (H):                nan   Skew:                              nan\n",
      "Prob(H) (two-sided):                   nan   Kurtosis:                          nan\n",
      "===================================================================================\n",
      "\n",
      "Warnings:\n",
      "[1] Covariance matrix calculated using the outer product of gradients (complex-step).\n",
      "[2] Covariance matrix is singular or near-singular, with condition number    inf. Standard errors may be unstable.\n"
     ]
    },
    {
     "name": "stderr",
     "output_type": "stream",
     "text": [
      "C:\\Users\\Nandhini\\Anaconda3\\lib\\site-packages\\statsmodels\\tsa\\base\\tsa_model.py:524: ValueWarning: No frequency information was provided, so inferred frequency MS will be used.\n",
      "  warnings.warn('No frequency information was'\n",
      "C:\\Users\\Nandhini\\Anaconda3\\lib\\site-packages\\statsmodels\\tsa\\base\\tsa_model.py:524: ValueWarning: No frequency information was provided, so inferred frequency MS will be used.\n",
      "  warnings.warn('No frequency information was'\n",
      "C:\\Users\\Nandhini\\Anaconda3\\lib\\site-packages\\statsmodels\\tsa\\statespace\\sarimax.py:866: UserWarning: Too few observations to estimate starting parameters for seasonal ARMA. All parameters except for variances will be set to zeros.\n",
      "  warn('Too few observations to estimate starting parameters%s.'\n",
      "C:\\Users\\Nandhini\\Anaconda3\\lib\\site-packages\\statsmodels\\tools\\eval_measures.py:406: RuntimeWarning: invalid value encountered in log\n",
      "  return -2.0 * llf + np.log(nobs) * df_modelwc\n",
      "C:\\Users\\Nandhini\\Anaconda3\\lib\\site-packages\\statsmodels\\tools\\eval_measures.py:431: RuntimeWarning: invalid value encountered in log\n",
      "  return -2.0 * llf + 2 * np.log(np.log(nobs)) * df_modelwc\n",
      "C:\\Users\\Nandhini\\Anaconda3\\lib\\site-packages\\statsmodels\\tsa\\statespace\\mlemodel.py:2937: RuntimeWarning: divide by zero encountered in divide\n",
      "  return self.params / self.bse\n",
      "C:\\Users\\Nandhini\\Anaconda3\\lib\\site-packages\\statsmodels\\tsa\\statespace\\mlemodel.py:2937: RuntimeWarning: invalid value encountered in divide\n",
      "  return self.params / self.bse\n",
      "C:\\Users\\Nandhini\\Anaconda3\\lib\\site-packages\\statsmodels\\tsa\\statespace\\mlemodel.py:3103: UserWarning: Later subset of data for variable 0  has too few non-missing observations to calculate test statistic.\n",
      "  warnings.warn('Later subset of data for variable %d'\n",
      "C:\\Users\\Nandhini\\Anaconda3\\lib\\site-packages\\statsmodels\\tsa\\stattools.py:469: RuntimeWarning: Mean of empty slice.\n",
      "  xo = x - x.mean()\n",
      "C:\\Users\\Nandhini\\Anaconda3\\lib\\site-packages\\numpy\\core\\_methods.py:190: RuntimeWarning: invalid value encountered in double_scalars\n",
      "  ret = ret.dtype.type(ret / rcount)\n",
      "C:\\Users\\Nandhini\\Anaconda3\\lib\\site-packages\\scipy\\stats\\stats.py:1107: RuntimeWarning: Mean of empty slice.\n",
      "  mean = a.mean(axis, keepdims=True)\n",
      "C:\\Users\\Nandhini\\Anaconda3\\lib\\site-packages\\numpy\\core\\_methods.py:182: RuntimeWarning: invalid value encountered in divide\n",
      "  ret = um.true_divide(\n",
      "C:\\Users\\Nandhini\\Anaconda3\\lib\\site-packages\\numpy\\core\\fromnumeric.py:3432: RuntimeWarning: Mean of empty slice.\n",
      "  return _methods._mean(a, axis=axis, dtype=dtype,\n",
      "C:\\Users\\Nandhini\\Anaconda3\\lib\\site-packages\\scipy\\stats\\stats.py:1216: RuntimeWarning: Mean of empty slice.\n",
      "  mean = a.mean(axis, keepdims=True)\n"
     ]
    }
   ],
   "source": [
    "## To get the real forecast for 7 days, we will rerun the model on the complete dataset\n",
    "\n",
    "mod = sm.tsa.statespace.SARIMAX(test['CSUSHPISA'],\n",
    "                                order=(1,0,2),\n",
    "                                seasonal_order=(2, 0, 2, 7),\n",
    "                                enforce_stationarity=False,\n",
    "                                enforce_invertibility=False)\n",
    "results = mod.fit()\n",
    "print(results.summary())"
   ]
  },
  {
   "cell_type": "code",
   "execution_count": 93,
   "id": "d6b86221",
   "metadata": {},
   "outputs": [
    {
     "name": "stderr",
     "output_type": "stream",
     "text": [
      "C:\\Users\\Nandhini\\Anaconda3\\lib\\site-packages\\statsmodels\\tsa\\base\\tsa_model.py:524: ValueWarning: No frequency information was provided, so inferred frequency MS will be used.\n",
      "  warnings.warn('No frequency information was'\n",
      "C:\\Users\\Nandhini\\Anaconda3\\lib\\site-packages\\statsmodels\\tsa\\base\\tsa_model.py:524: ValueWarning: No frequency information was provided, so inferred frequency MS will be used.\n",
      "  warnings.warn('No frequency information was'\n"
     ]
    },
    {
     "name": "stdout",
     "output_type": "stream",
     "text": [
      "                                 SARIMAX Results                                 \n",
      "=================================================================================\n",
      "Dep. Variable:                 CSUSHPISA   No. Observations:                  426\n",
      "Model:             SARIMAX(1, 1, [1], 7)   Log Likelihood               -1082.755\n",
      "Date:                   Mon, 25 Sep 2023   AIC                           2171.510\n",
      "Time:                           23:50:00   BIC                           2183.565\n",
      "Sample:                       01-01-1987   HQIC                          2176.279\n",
      "                            - 06-01-2022                                         \n",
      "Covariance Type:                     opg                                         \n",
      "==============================================================================\n",
      "                 coef    std err          z      P>|z|      [0.025      0.975]\n",
      "------------------------------------------------------------------------------\n",
      "ar.S.L7        0.9722      0.023     41.484      0.000       0.926       1.018\n",
      "ma.S.L7        4.5635      1.006      4.536      0.000       2.592       6.535\n",
      "sigma2         0.5456      0.242      2.250      0.024       0.070       1.021\n",
      "===================================================================================\n",
      "Ljung-Box (L1) (Q):                 371.33   Jarque-Bera (JB):               851.19\n",
      "Prob(Q):                              0.00   Prob(JB):                         0.00\n",
      "Heteroskedasticity (H):              30.75   Skew:                             1.24\n",
      "Prob(H) (two-sided):                  0.00   Kurtosis:                         9.60\n",
      "===================================================================================\n",
      "\n",
      "Warnings:\n",
      "[1] Covariance matrix calculated using the outer product of gradients (complex-step).\n"
     ]
    }
   ],
   "source": [
    "## SARIMA(0, 0, 0)(1,1,1, 7) \n",
    "mod = sm.tsa.statespace.SARIMAX(train['CSUSHPISA'],\n",
    "                                order=(0,0,0),\n",
    "                                seasonal_order=(1, 1, 1, 7),\n",
    "                                enforce_stationarity=False,\n",
    "                                enforce_invertibility=False)\n",
    "results = mod.fit()\n",
    "print(results.summary())"
   ]
  },
  {
   "cell_type": "code",
   "execution_count": 94,
   "id": "95c5e351",
   "metadata": {},
   "outputs": [
    {
     "name": "stderr",
     "output_type": "stream",
     "text": [
      "C:\\Users\\Nandhini\\Anaconda3\\lib\\site-packages\\pandas\\core\\generic.py:5516: SettingWithCopyWarning: \n",
      "A value is trying to be set on a copy of a slice from a DataFrame.\n",
      "Try using .loc[row_indexer,col_indexer] = value instead\n",
      "\n",
      "See the caveats in the documentation: https://pandas.pydata.org/pandas-docs/stable/user_guide/indexing.html#returning-a-view-versus-a-copy\n",
      "  self[name] = value\n"
     ]
    },
    {
     "data": {
      "text/plain": [
       "2022-07-01    308.924377\n",
       "2022-08-01    312.518810\n",
       "2022-09-01    318.093609\n",
       "2022-10-01    325.129373\n",
       "2022-11-01    330.313407\n",
       "                 ...    \n",
       "2034-10-01    740.899922\n",
       "2034-11-01    731.256843\n",
       "2034-12-01    744.450217\n",
       "2035-01-01    775.846769\n",
       "2035-02-01    793.994474\n",
       "Freq: MS, Name: predicted_mean, Length: 152, dtype: float64"
      ]
     },
     "execution_count": 94,
     "metadata": {},
     "output_type": "execute_result"
    }
   ],
   "source": [
    "test.CSUSHPISA= test.CSUSHPISA.astype(float)\n",
    "final_hat_avg =test.copy()\n",
    "pred = results.get_forecast(steps=152)\n",
    "pred.predicted_mean"
   ]
  },
  {
   "cell_type": "code",
   "execution_count": 101,
   "id": "59e6d529",
   "metadata": {},
   "outputs": [
    {
     "name": "stdout",
     "output_type": "stream",
     "text": [
      "35.783282114504246\n"
     ]
    }
   ],
   "source": [
    "N = len(test.CSUSHPISA)\n",
    "aligned_pred = pred.predicted_mean[:N]\n",
    "\n",
    "from math import sqrt\n",
    "from sklearn.metrics import mean_squared_error\n",
    "\n",
    "# Calculate RMSE using aligned arrays\n",
    "rms = sqrt(mean_squared_error(test.CSUSHPISA, aligned_pred))\n",
    "print(rms)"
   ]
  },
  {
   "cell_type": "code",
   "execution_count": 102,
   "id": "69a4f4e4",
   "metadata": {},
   "outputs": [
    {
     "data": {
      "text/html": [
       "<div>\n",
       "<style scoped>\n",
       "    .dataframe tbody tr th:only-of-type {\n",
       "        vertical-align: middle;\n",
       "    }\n",
       "\n",
       "    .dataframe tbody tr th {\n",
       "        vertical-align: top;\n",
       "    }\n",
       "\n",
       "    .dataframe thead th {\n",
       "        text-align: right;\n",
       "    }\n",
       "</style>\n",
       "<table border=\"1\" class=\"dataframe\">\n",
       "  <thead>\n",
       "    <tr style=\"text-align: right;\">\n",
       "      <th></th>\n",
       "      <th>RMSE</th>\n",
       "    </tr>\n",
       "  </thead>\n",
       "  <tbody>\n",
       "    <tr>\n",
       "      <th>ARIMA(2,1,1)</th>\n",
       "      <td>25.509032</td>\n",
       "    </tr>\n",
       "    <tr>\n",
       "      <th>SARIMA(0,1,2)(2,0,2,6)</th>\n",
       "      <td>25.509032</td>\n",
       "    </tr>\n",
       "    <tr>\n",
       "      <th>SARIMA(1,1,2)(2,0,2,12)</th>\n",
       "      <td>7.565646</td>\n",
       "    </tr>\n",
       "    <tr>\n",
       "      <th>SARIMA(0,0,0)(1,1,1)7</th>\n",
       "      <td>35.783282</td>\n",
       "    </tr>\n",
       "  </tbody>\n",
       "</table>\n",
       "</div>"
      ],
      "text/plain": [
       "                              RMSE\n",
       "ARIMA(2,1,1)             25.509032\n",
       "SARIMA(0,1,2)(2,0,2,6)   25.509032\n",
       "SARIMA(1,1,2)(2,0,2,12)   7.565646\n",
       "SARIMA(0,0,0)(1,1,1)7    35.783282"
      ]
     },
     "execution_count": 102,
     "metadata": {},
     "output_type": "execute_result"
    }
   ],
   "source": [
    "temp_resultsDf = pd.DataFrame({'RMSE': [rms]}\n",
    "                           ,index=['SARIMA(0,0,0)(1,1,1)7'])\n",
    "\n",
    "resultsDf = pd.concat([resultsDf, temp_resultsDf])\n",
    "resultsDf"
   ]
  },
  {
   "cell_type": "code",
   "execution_count": 103,
   "id": "5eb0d3e1",
   "metadata": {},
   "outputs": [],
   "source": [
    "# RMSE values for different models\n",
    "rmse_values = {\n",
    "    'ARIMA(2,1,1)': 25.509032,\n",
    "    'SARIMA(0,1,2)(2,0,2,6)': 25.509032,\n",
    "    'SARIMA(1,1,2)(2,0,2,12)': 7.565646,\n",
    "    'SARIMA(0,0,0)(1,1,1)7': 35.783282\n",
    "}"
   ]
  },
  {
   "cell_type": "code",
   "execution_count": 104,
   "id": "b45fab92",
   "metadata": {},
   "outputs": [
    {
     "name": "stdout",
     "output_type": "stream",
     "text": [
      "ARIMA(2,1,1) - RMSE: 25.509032\n",
      "SARIMA(0,1,2)(2,0,2,6) - RMSE: 25.509032\n",
      "SARIMA(1,1,2)(2,0,2,12) - RMSE: 7.565646\n",
      "SARIMA(0,0,0)(1,1,1)7 - RMSE: 35.783282\n",
      "The best model is: SARIMA(1,1,2)(2,0,2,12) with RMSE: 7.565646\n"
     ]
    }
   ],
   "source": [
    "# Find the model with the lowest RMSE\n",
    "best_model = min(rmse_values, key=rmse_values.get)\n",
    "\n",
    "# Print the RMSE values and the best model\n",
    "for model, rmse in rmse_values.items():\n",
    "    print(f'{model} - RMSE: {rmse:.6f}')\n",
    "\n",
    "print(f'The best model is: {best_model} with RMSE: {rmse_values[best_model]:.6f}')"
   ]
  },
  {
   "cell_type": "code",
   "execution_count": 107,
   "id": "d280d4af",
   "metadata": {},
   "outputs": [
    {
     "name": "stderr",
     "output_type": "stream",
     "text": [
      "C:\\Users\\Nandhini\\Anaconda3\\lib\\site-packages\\statsmodels\\tsa\\base\\tsa_model.py:524: ValueWarning: No frequency information was provided, so inferred frequency MS will be used.\n",
      "  warnings.warn('No frequency information was'\n",
      "C:\\Users\\Nandhini\\Anaconda3\\lib\\site-packages\\statsmodels\\tsa\\base\\tsa_model.py:524: ValueWarning: No frequency information was provided, so inferred frequency MS will be used.\n",
      "  warnings.warn('No frequency information was'\n"
     ]
    },
    {
     "name": "stdout",
     "output_type": "stream",
     "text": [
      "ar.L1       0.898994\n",
      "ma.L1       0.336233\n",
      "ma.L2       0.294817\n",
      "ar.S.L12    0.119878\n",
      "ar.S.L24    0.455435\n",
      "ma.S.L12    0.081235\n",
      "ma.S.L24   -0.311403\n",
      "sigma2      0.080942\n",
      "dtype: float64\n"
     ]
    },
    {
     "name": "stderr",
     "output_type": "stream",
     "text": [
      "C:\\Users\\Nandhini\\Anaconda3\\lib\\site-packages\\statsmodels\\base\\model.py:566: ConvergenceWarning: Maximum Likelihood optimization failed to converge. Check mle_retvals\n",
      "  warnings.warn(\"Maximum Likelihood optimization failed to \"\n"
     ]
    }
   ],
   "source": [
    "model = SARIMAX(train['CSUSHPISA'], order=(1, 1, 2), seasonal_order=(2, 0, 2, 12))\n",
    "results = model.fit()\n",
    "coefficients = results.params\n",
    "\n",
    "# Get the confidence intervals for the coefficients\n",
    "conf_int = results.conf_int(alpha=0.05)  # Use a 95% confidence level\n",
    "\n",
    "# Filter significant coefficients based on the confidence intervals\n",
    "significant_coeffs = coefficients[\n",
    "    (coefficients.index.str.contains('ar|ma|seasonal')) &\n",
    "    ((coefficients >= conf_int[0]) & (coefficients <= conf_int[1]))\n",
    "]\n",
    "print(significant_coeffs)"
   ]
  },
  {
   "cell_type": "markdown",
   "id": "1876c55e",
   "metadata": {},
   "source": [
    "ar.L1: Autoregressive lag 1 coefficient.\n",
    "ma.L1 and ma.L2: Moving average lags 1 and 2 coefficients.\n",
    "ar.S.L12 and ar.S.L24: Seasonal autoregressive lags 12 and 24 coefficients (indicating seasonality).\n",
    "ma.S.L12 and ma.S.L24: Seasonal moving average lags 12 and 24 coefficients.\n",
    "sigma2: Variance of the residuals (error term)."
   ]
  },
  {
   "cell_type": "code",
   "execution_count": 110,
   "id": "d8442f50",
   "metadata": {},
   "outputs": [
    {
     "name": "stderr",
     "output_type": "stream",
     "text": [
      "C:\\Users\\Nandhini\\Anaconda3\\lib\\site-packages\\matplotlib\\axes\\_base.py:2283: UserWarning: Warning: converting a masked element to nan.\n",
      "  xys = np.asarray(xys)\n"
     ]
    },
    {
     "data": {
      "image/png": "[encoded data removed]",
      "text/plain": [
       "<Figure size 864x576 with 2 Axes>"
      ]
     },
     "metadata": {
      "needs_background": "light"
     },
     "output_type": "display_data"
    }
   ],
   "source": [
    "import matplotlib.pyplot as plt\n",
    "from statsmodels.graphics.tsaplots import plot_acf, plot_pacf\n",
    "\n",
    "# Obtain the residuals from the SARIMA model\n",
    "residuals = results_auto_ARIMA.resid\n",
    "\n",
    "# Create subplots for ACF and PACF\n",
    "fig, (ax1, ax2) = plt.subplots(2, 1, figsize=(12, 8))\n",
    "\n",
    "# Plot ACF\n",
    "plot_acf(residuals, lags=40, ax=ax1)\n",
    "ax1.set_title('Autocorrelation Function (ACF) of Residuals')\n",
    "\n",
    "# Plot PACF\n",
    "plot_pacf(residuals, lags=40, ax=ax2)\n",
    "ax2.set_title('Partial Autocorrelation Function (PACF) of Residuals')\n",
    "\n",
    "plt.show()"
   ]
  },
  {
   "cell_type": "markdown",
   "id": "7f425996",
   "metadata": {},
   "source": [
    "If the ACF (Autocorrelation Function) plot appears empty, it typically means that there is no significant autocorrelation in the residuals of your model. This is generally a good sign, as it suggests that the model has captured most of the underlying patterns and dependencies in the data."
   ]
  },
  {
   "cell_type": "code",
   "execution_count": 115,
   "id": "a5e833d8",
   "metadata": {},
   "outputs": [
    {
     "name": "stdout",
     "output_type": "stream",
     "text": [
      "                            OLS Regression Results                            \n",
      "==============================================================================\n",
      "Dep. Variable:              CSUSHPISA   R-squared:                       0.849\n",
      "Model:                            OLS   Adj. R-squared:                  0.848\n",
      "Method:                 Least Squares   F-statistic:                     815.7\n",
      "Date:                Tue, 26 Sep 2023   Prob (F-statistic):          6.28e-178\n",
      "Time:                        00:28:18   Log-Likelihood:                -1998.3\n",
      "No. Observations:                 438   AIC:                             4005.\n",
      "Df Residuals:                     434   BIC:                             4021.\n",
      "Df Model:                           3                                         \n",
      "Covariance Type:            nonrobust                                         \n",
      "==============================================================================\n",
      "                 coef    std err          t      P>|t|      [0.025      0.975]\n",
      "------------------------------------------------------------------------------\n",
      "Year           5.2238      0.106     49.450      0.000       5.016       5.431\n",
      "Month          0.0933      0.514      0.182      0.856      -0.916       1.103\n",
      "Day        -1.033e+04    211.824    -48.785      0.000   -1.08e+04   -9917.567\n",
      "WeekOfYear     0.0636      0.117      0.544      0.587      -0.166       0.294\n",
      "==============================================================================\n",
      "Omnibus:                       61.648   Durbin-Watson:                   0.004\n",
      "Prob(Omnibus):                  0.000   Jarque-Bera (JB):               86.518\n",
      "Skew:                           0.967   Prob(JB):                     1.63e-19\n",
      "Kurtosis:                       4.002   Cond. No.                     3.82e+05\n",
      "==============================================================================\n",
      "\n",
      "Notes:\n",
      "[1] Standard Errors assume that the covariance matrix of the errors is correctly specified.\n",
      "[2] The condition number is large, 3.82e+05. This might indicate that there are\n",
      "strong multicollinearity or other numerical problems.\n"
     ]
    }
   ],
   "source": [
    "model = sm.OLS(y, sm.add_constant(X)).fit()\n",
    "# Print the summary of the regression results\n",
    "print(model.summary())"
   ]
  },
  {
   "cell_type": "markdown",
   "id": "75605e3f",
   "metadata": {},
   "source": [
    "Based on these results, it appears that \"Year\" and \"Day\" have a significant impact on home prices, while \"Month\" and \"WeekOfYear\" may not be significant predictors in this model"
   ]
  },
  {
   "cell_type": "code",
   "execution_count": null,
   "id": "e6fd61d4",
   "metadata": {},
   "outputs": [],
   "source": []
  }
 ],
 "metadata": {
  "kernelspec": {
   "display_name": "Python 3 (ipykernel)",
   "language": "python",
   "name": "python3"
  },
  "language_info": {
   "codemirror_mode": {
    "name": "ipython",
    "version": 3
   },
   "file_extension": ".py",
   "mimetype": "text/x-python",
   "name": "python",
   "nbconvert_exporter": "python",
   "pygments_lexer": "ipython3",
   "version": "3.9.7"
  }
 },
 "nbformat": 4,
 "nbformat_minor": 5
}
